{
 "cells": [
  {
   "cell_type": "code",
   "execution_count": 56,
   "metadata": {},
   "outputs": [],
   "source": [
    "import pandas as pd\n",
    "import numpy as np\n",
    "import sklearn\n",
    "import random\n",
    "import nltk\n",
    "import string\n",
    "import re\n",
    "from nltk.stem import WordNetLemmatizer\n",
    "from nltk.tokenize import word_tokenize\n",
    "from sklearn.linear_model import LogisticRegression\n",
    "from sklearn.model_selection import train_test_split\n",
    "from sklearn.metrics import accuracy_score, precision_score, f1_score, recall_score\n",
    "from sklearn.ensemble import RandomForestClassifier\n",
    "from sklearn.feature_selection import SelectFromModel\n",
    "from sklearn import metrics\n",
    "from nltk import pos_tag"
   ]
  },
  {
   "cell_type": "code",
   "execution_count": 3,
   "metadata": {},
   "outputs": [],
   "source": [
    "#I don't think you guys would need to run this at all\n",
    "import os\n",
    "os.getcwd()\n",
    "os.chdir('d:\\\\Harris Course work\\\\MLPP\\\\ml_proj\\\\obamacare-ml-project')"
   ]
  },
  {
   "cell_type": "code",
   "execution_count": 4,
   "metadata": {},
   "outputs": [],
   "source": [
    "# setting file path and chunk size\n",
    "file_path = 'data/yelp_academic_dataset_review.json'\n",
    "chunk_size = 1000\n",
    "\n",
    "#Calculating size of the dataset\n",
    "with open(file_path, 'r', encoding='utf-8') as f:\n",
    "    num_records = sum(1 for line in f)\n",
    "\n",
    "#Generating a random set of indices to subset\n",
    "subset_size = int(num_records * 0.1)  # load 10% of the records\n",
    "indices = random.sample(range(num_records), subset_size)\n",
    "\n",
    "# Loading the rows corresponding to the randomly generated indices\n",
    "chunks = []\n",
    "json_reader = pd.read_json(file_path, lines=True, chunksize=chunk_size)\n",
    "for chunk in json_reader:\n",
    "    filtered_chunk = chunk[chunk.index.isin(indices)]\n",
    "    if not filtered_chunk.empty:\n",
    "        chunks.append(filtered_chunk)\n",
    "\n",
    "# concatenate the chunks into a single DataFrame\n",
    "df = pd.concat(chunks)\n"
   ]
  },
  {
   "cell_type": "code",
   "execution_count": 5,
   "metadata": {},
   "outputs": [
    {
     "data": {
      "text/html": [
       "<div>\n",
       "<style scoped>\n",
       "    .dataframe tbody tr th:only-of-type {\n",
       "        vertical-align: middle;\n",
       "    }\n",
       "\n",
       "    .dataframe tbody tr th {\n",
       "        vertical-align: top;\n",
       "    }\n",
       "\n",
       "    .dataframe thead th {\n",
       "        text-align: right;\n",
       "    }\n",
       "</style>\n",
       "<table border=\"1\" class=\"dataframe\">\n",
       "  <thead>\n",
       "    <tr style=\"text-align: right;\">\n",
       "      <th></th>\n",
       "      <th>review_id</th>\n",
       "      <th>user_id</th>\n",
       "      <th>business_id</th>\n",
       "      <th>stars</th>\n",
       "      <th>useful</th>\n",
       "      <th>funny</th>\n",
       "      <th>cool</th>\n",
       "      <th>text</th>\n",
       "      <th>date</th>\n",
       "    </tr>\n",
       "  </thead>\n",
       "  <tbody>\n",
       "    <tr>\n",
       "      <th>28</th>\n",
       "      <td>DyrAIuKl60j_X8Yrrv-kpg</td>\n",
       "      <td>mNsVyC9tQVYtzLOCbh2Piw</td>\n",
       "      <td>MWmXGQ98KbRo3vsS5nZhMA</td>\n",
       "      <td>5</td>\n",
       "      <td>1</td>\n",
       "      <td>0</td>\n",
       "      <td>0</td>\n",
       "      <td>I recently had dinner here with my wife over t...</td>\n",
       "      <td>2014-10-27 02:47:28</td>\n",
       "    </tr>\n",
       "    <tr>\n",
       "      <th>32</th>\n",
       "      <td>40thYphUgIfvJq17QCfTwA</td>\n",
       "      <td>QzCEzH3R7Z6erOGLr3t55Q</td>\n",
       "      <td>0pMj5xUAecW9o1P35B0AMw</td>\n",
       "      <td>5</td>\n",
       "      <td>1</td>\n",
       "      <td>0</td>\n",
       "      <td>1</td>\n",
       "      <td>Great staff always helps and always nice. Alwa...</td>\n",
       "      <td>2017-05-26 13:10:24</td>\n",
       "    </tr>\n",
       "    <tr>\n",
       "      <th>62</th>\n",
       "      <td>-7LkjSPzfVgnVpuVuRuOow</td>\n",
       "      <td>uAu772KpSkb-tPFgZmU-lA</td>\n",
       "      <td>2GYg3liJ9-m6Z67L_4_BRQ</td>\n",
       "      <td>5</td>\n",
       "      <td>7</td>\n",
       "      <td>0</td>\n",
       "      <td>3</td>\n",
       "      <td>I LOVE Weaver's Way and really disagree with s...</td>\n",
       "      <td>2008-12-03 04:13:43</td>\n",
       "    </tr>\n",
       "    <tr>\n",
       "      <th>72</th>\n",
       "      <td>-up4mW6WdqzGrRh7t_pLmA</td>\n",
       "      <td>xbybLiQockAzC4xAlzFrGg</td>\n",
       "      <td>EpREWeEpmR8f1qLHzzF0AA</td>\n",
       "      <td>5</td>\n",
       "      <td>0</td>\n",
       "      <td>0</td>\n",
       "      <td>0</td>\n",
       "      <td>After living in the STL area for way over 10 y...</td>\n",
       "      <td>2011-11-30 06:58:36</td>\n",
       "    </tr>\n",
       "    <tr>\n",
       "      <th>79</th>\n",
       "      <td>5obXxR0b94b5q6j1zYCAzw</td>\n",
       "      <td>3inG_FUhm28tUJc0zZ2fCg</td>\n",
       "      <td>aY_n9RSaD2Yw09jSFFePew</td>\n",
       "      <td>1</td>\n",
       "      <td>0</td>\n",
       "      <td>0</td>\n",
       "      <td>0</td>\n",
       "      <td>We visited once and were very disappointed in ...</td>\n",
       "      <td>2017-08-16 15:43:19</td>\n",
       "    </tr>\n",
       "  </tbody>\n",
       "</table>\n",
       "</div>"
      ],
      "text/plain": [
       "                 review_id                 user_id             business_id  \\\n",
       "28  DyrAIuKl60j_X8Yrrv-kpg  mNsVyC9tQVYtzLOCbh2Piw  MWmXGQ98KbRo3vsS5nZhMA   \n",
       "32  40thYphUgIfvJq17QCfTwA  QzCEzH3R7Z6erOGLr3t55Q  0pMj5xUAecW9o1P35B0AMw   \n",
       "62  -7LkjSPzfVgnVpuVuRuOow  uAu772KpSkb-tPFgZmU-lA  2GYg3liJ9-m6Z67L_4_BRQ   \n",
       "72  -up4mW6WdqzGrRh7t_pLmA  xbybLiQockAzC4xAlzFrGg  EpREWeEpmR8f1qLHzzF0AA   \n",
       "79  5obXxR0b94b5q6j1zYCAzw  3inG_FUhm28tUJc0zZ2fCg  aY_n9RSaD2Yw09jSFFePew   \n",
       "\n",
       "    stars  useful  funny  cool  \\\n",
       "28      5       1      0     0   \n",
       "32      5       1      0     1   \n",
       "62      5       7      0     3   \n",
       "72      5       0      0     0   \n",
       "79      1       0      0     0   \n",
       "\n",
       "                                                 text                date  \n",
       "28  I recently had dinner here with my wife over t... 2014-10-27 02:47:28  \n",
       "32  Great staff always helps and always nice. Alwa... 2017-05-26 13:10:24  \n",
       "62  I LOVE Weaver's Way and really disagree with s... 2008-12-03 04:13:43  \n",
       "72  After living in the STL area for way over 10 y... 2011-11-30 06:58:36  \n",
       "79  We visited once and were very disappointed in ... 2017-08-16 15:43:19  "
      ]
     },
     "execution_count": 5,
     "metadata": {},
     "output_type": "execute_result"
    }
   ],
   "source": [
    "df.head()"
   ]
  },
  {
   "cell_type": "code",
   "execution_count": 6,
   "metadata": {},
   "outputs": [
    {
     "data": {
      "text/plain": [
       "5    0.462428\n",
       "4    0.207969\n",
       "1    0.152376\n",
       "3    0.099278\n",
       "2    0.077950\n",
       "Name: stars, dtype: float64"
      ]
     },
     "execution_count": 6,
     "metadata": {},
     "output_type": "execute_result"
    }
   ],
   "source": [
    "df.loc[:,'stars'].value_counts(normalize=True)"
   ]
  },
  {
   "cell_type": "code",
   "execution_count": 7,
   "metadata": {},
   "outputs": [],
   "source": [
    "yelp_reviews = df.loc[:, ['text','stars', 'useful','funny','cool']]"
   ]
  },
  {
   "cell_type": "code",
   "execution_count": 8,
   "metadata": {},
   "outputs": [
    {
     "data": {
      "text/plain": [
       "(699028, 5)"
      ]
     },
     "execution_count": 8,
     "metadata": {},
     "output_type": "execute_result"
    }
   ],
   "source": [
    "yelp_reviews.shape"
   ]
  },
  {
   "cell_type": "code",
   "execution_count": 9,
   "metadata": {},
   "outputs": [
    {
     "data": {
      "text/html": [
       "<div>\n",
       "<style scoped>\n",
       "    .dataframe tbody tr th:only-of-type {\n",
       "        vertical-align: middle;\n",
       "    }\n",
       "\n",
       "    .dataframe tbody tr th {\n",
       "        vertical-align: top;\n",
       "    }\n",
       "\n",
       "    .dataframe thead th {\n",
       "        text-align: right;\n",
       "    }\n",
       "</style>\n",
       "<table border=\"1\" class=\"dataframe\">\n",
       "  <thead>\n",
       "    <tr style=\"text-align: right;\">\n",
       "      <th></th>\n",
       "      <th>text</th>\n",
       "      <th>stars</th>\n",
       "      <th>useful</th>\n",
       "      <th>funny</th>\n",
       "      <th>cool</th>\n",
       "    </tr>\n",
       "  </thead>\n",
       "  <tbody>\n",
       "    <tr>\n",
       "      <th>28</th>\n",
       "      <td>I recently had dinner here with my wife over t...</td>\n",
       "      <td>5</td>\n",
       "      <td>1</td>\n",
       "      <td>0</td>\n",
       "      <td>0</td>\n",
       "    </tr>\n",
       "    <tr>\n",
       "      <th>32</th>\n",
       "      <td>Great staff always helps and always nice. Alwa...</td>\n",
       "      <td>5</td>\n",
       "      <td>1</td>\n",
       "      <td>0</td>\n",
       "      <td>1</td>\n",
       "    </tr>\n",
       "    <tr>\n",
       "      <th>62</th>\n",
       "      <td>I LOVE Weaver's Way and really disagree with s...</td>\n",
       "      <td>5</td>\n",
       "      <td>7</td>\n",
       "      <td>0</td>\n",
       "      <td>3</td>\n",
       "    </tr>\n",
       "    <tr>\n",
       "      <th>72</th>\n",
       "      <td>After living in the STL area for way over 10 y...</td>\n",
       "      <td>5</td>\n",
       "      <td>0</td>\n",
       "      <td>0</td>\n",
       "      <td>0</td>\n",
       "    </tr>\n",
       "    <tr>\n",
       "      <th>79</th>\n",
       "      <td>We visited once and were very disappointed in ...</td>\n",
       "      <td>1</td>\n",
       "      <td>0</td>\n",
       "      <td>0</td>\n",
       "      <td>0</td>\n",
       "    </tr>\n",
       "  </tbody>\n",
       "</table>\n",
       "</div>"
      ],
      "text/plain": [
       "                                                 text  stars  useful  funny  \\\n",
       "28  I recently had dinner here with my wife over t...      5       1      0   \n",
       "32  Great staff always helps and always nice. Alwa...      5       1      0   \n",
       "62  I LOVE Weaver's Way and really disagree with s...      5       7      0   \n",
       "72  After living in the STL area for way over 10 y...      5       0      0   \n",
       "79  We visited once and were very disappointed in ...      1       0      0   \n",
       "\n",
       "    cool  \n",
       "28     0  \n",
       "32     1  \n",
       "62     3  \n",
       "72     0  \n",
       "79     0  "
      ]
     },
     "execution_count": 9,
     "metadata": {},
     "output_type": "execute_result"
    }
   ],
   "source": [
    "yelp_reviews.head()"
   ]
  },
  {
   "cell_type": "code",
   "execution_count": 55,
   "metadata": {},
   "outputs": [
    {
     "name": "stderr",
     "output_type": "stream",
     "text": [
      "[nltk_data] Downloading package punkt to\n",
      "[nltk_data]     C:\\Users\\soumy\\AppData\\Roaming\\nltk_data...\n",
      "[nltk_data]   Package punkt is already up-to-date!\n",
      "[nltk_data] Downloading package stopwords to\n",
      "[nltk_data]     C:\\Users\\soumy\\AppData\\Roaming\\nltk_data...\n",
      "[nltk_data]   Package stopwords is already up-to-date!\n",
      "[nltk_data] Downloading package wordnet to\n",
      "[nltk_data]     C:\\Users\\soumy\\AppData\\Roaming\\nltk_data...\n",
      "[nltk_data]   Package wordnet is already up-to-date!\n",
      "[nltk_data] Downloading package averaged_perceptron_tagger to\n",
      "[nltk_data]     C:\\Users\\soumy\\AppData\\Roaming\\nltk_data...\n",
      "[nltk_data]   Unzipping taggers\\averaged_perceptron_tagger.zip.\n"
     ]
    },
    {
     "data": {
      "text/plain": [
       "True"
      ]
     },
     "execution_count": 55,
     "metadata": {},
     "output_type": "execute_result"
    }
   ],
   "source": [
    "# Tokenizing and lemmatizing: I had some issue switching to Eshan's branch.\n",
    "# Please edit if I missed a step\n",
    "nltk.download('punkt')\n",
    "nltk.download('stopwords')\n",
    "nltk.download('wordnet')\n",
    "nltk.download('averaged_perceptron_tagger')"
   ]
  },
  {
   "cell_type": "code",
   "execution_count": 11,
   "metadata": {},
   "outputs": [],
   "source": [
    "#Pre-processing strings\n",
    "yelp_reviews.loc[:,'text'] = yelp_reviews.loc[:,'text'].str.lower()"
   ]
  },
  {
   "cell_type": "code",
   "execution_count": 12,
   "metadata": {},
   "outputs": [],
   "source": [
    "#Removing punctuation\n",
    "punc = r'[{}]+'.format(string.punctuation)\n",
    "yelp_reviews.loc[:,'text'] = yelp_reviews.loc[:,'text'].apply(lambda x: re.sub(punc,'',x))"
   ]
  },
  {
   "cell_type": "code",
   "execution_count": 13,
   "metadata": {},
   "outputs": [],
   "source": [
    "yelp_reviews.loc[:,'text'] = yelp_reviews.loc[:,'text'] .apply(lambda x: nltk.word_tokenize(x))"
   ]
  },
  {
   "cell_type": "code",
   "execution_count": 14,
   "metadata": {},
   "outputs": [],
   "source": [
    "stop_words = nltk.corpus.stopwords.words('english')\n",
    "yelp_reviews.loc[:,'text'] = yelp_reviews.loc[:,'text'].apply(lambda x: [i for i in x if i not in stop_words])"
   ]
  },
  {
   "cell_type": "code",
   "execution_count": 15,
   "metadata": {},
   "outputs": [],
   "source": [
    "lemmatizer = nltk.stem.WordNetLemmatizer()\n",
    "yelp_reviews.loc[:,'text'] = yelp_reviews.loc[:,'text'].apply(lambda x: [lemmatizer.lemmatize(i) for i in x])"
   ]
  },
  {
   "attachments": {},
   "cell_type": "markdown",
   "metadata": {},
   "source": [
    "Model 1: Binary Logistic Regression"
   ]
  },
  {
   "cell_type": "code",
   "execution_count": 16,
   "metadata": {},
   "outputs": [
    {
     "data": {
      "text/html": [
       "<div>\n",
       "<style scoped>\n",
       "    .dataframe tbody tr th:only-of-type {\n",
       "        vertical-align: middle;\n",
       "    }\n",
       "\n",
       "    .dataframe tbody tr th {\n",
       "        vertical-align: top;\n",
       "    }\n",
       "\n",
       "    .dataframe thead th {\n",
       "        text-align: right;\n",
       "    }\n",
       "</style>\n",
       "<table border=\"1\" class=\"dataframe\">\n",
       "  <thead>\n",
       "    <tr style=\"text-align: right;\">\n",
       "      <th></th>\n",
       "      <th>text</th>\n",
       "      <th>stars</th>\n",
       "      <th>useful</th>\n",
       "      <th>funny</th>\n",
       "      <th>cool</th>\n",
       "    </tr>\n",
       "  </thead>\n",
       "  <tbody>\n",
       "    <tr>\n",
       "      <th>28</th>\n",
       "      <td>[recently, dinner, wife, weekend, could, pleas...</td>\n",
       "      <td>5</td>\n",
       "      <td>1</td>\n",
       "      <td>0</td>\n",
       "      <td>0</td>\n",
       "    </tr>\n",
       "    <tr>\n",
       "      <th>32</th>\n",
       "      <td>[great, staff, always, help, always, nice, alw...</td>\n",
       "      <td>5</td>\n",
       "      <td>1</td>\n",
       "      <td>0</td>\n",
       "      <td>1</td>\n",
       "    </tr>\n",
       "    <tr>\n",
       "      <th>62</th>\n",
       "      <td>[love, weaver, way, really, disagree, content,...</td>\n",
       "      <td>5</td>\n",
       "      <td>7</td>\n",
       "      <td>0</td>\n",
       "      <td>3</td>\n",
       "    </tr>\n",
       "    <tr>\n",
       "      <th>72</th>\n",
       "      <td>[living, stl, area, way, 10, year, ashamed, re...</td>\n",
       "      <td>5</td>\n",
       "      <td>0</td>\n",
       "      <td>0</td>\n",
       "      <td>0</td>\n",
       "    </tr>\n",
       "    <tr>\n",
       "      <th>79</th>\n",
       "      <td>[visited, disappointed, veggie, pizza, husband...</td>\n",
       "      <td>1</td>\n",
       "      <td>0</td>\n",
       "      <td>0</td>\n",
       "      <td>0</td>\n",
       "    </tr>\n",
       "  </tbody>\n",
       "</table>\n",
       "</div>"
      ],
      "text/plain": [
       "                                                 text  stars  useful  funny  \\\n",
       "28  [recently, dinner, wife, weekend, could, pleas...      5       1      0   \n",
       "32  [great, staff, always, help, always, nice, alw...      5       1      0   \n",
       "62  [love, weaver, way, really, disagree, content,...      5       7      0   \n",
       "72  [living, stl, area, way, 10, year, ashamed, re...      5       0      0   \n",
       "79  [visited, disappointed, veggie, pizza, husband...      1       0      0   \n",
       "\n",
       "    cool  \n",
       "28     0  \n",
       "32     1  \n",
       "62     3  \n",
       "72     0  \n",
       "79     0  "
      ]
     },
     "execution_count": 16,
     "metadata": {},
     "output_type": "execute_result"
    }
   ],
   "source": [
    "yelp_reviews.head()"
   ]
  },
  {
   "attachments": {},
   "cell_type": "markdown",
   "metadata": {},
   "source": [
    "**Logistic Regression- Part 1**\n",
    "starsV1:\n",
    "Creating two classes:\n",
    "    labels 1-3 = bad (0)\n",
    "    labels 4-5 = good (1)"
   ]
  },
  {
   "cell_type": "code",
   "execution_count": 41,
   "metadata": {},
   "outputs": [
    {
     "name": "stderr",
     "output_type": "stream",
     "text": [
      "C:\\Users\\soumy\\AppData\\Local\\Temp\\ipykernel_9568\\1605253830.py:2: DeprecationWarning: In a future version, `df.iloc[:, i] = newvals` will attempt to set the values inplace instead of always setting a new array. To retain the old behavior, use either `df[df.columns[i]] = newvals` or, if columns are non-unique, `df.isetitem(i, newvals)`\n",
      "  yelp_reviews.loc[:, 'starsv1'] = 1\n"
     ]
    }
   ],
   "source": [
    "# Making stars dichotomous with threshold of 3\n",
    "yelp_reviews.loc[:, 'starsv1'] = 1\n",
    "yelp_reviews.loc[yelp_reviews.loc[:,'stars'] < 4, 'starsv1'] = 0"
   ]
  },
  {
   "cell_type": "code",
   "execution_count": 18,
   "metadata": {},
   "outputs": [
    {
     "data": {
      "text/plain": [
       "1    0.670397\n",
       "0    0.329603\n",
       "Name: starsv1, dtype: float64"
      ]
     },
     "execution_count": 18,
     "metadata": {},
     "output_type": "execute_result"
    }
   ],
   "source": [
    "yelp_reviews.loc[:,'starsv1'].value_counts(normalize=True)"
   ]
  },
  {
   "attachments": {},
   "cell_type": "markdown",
   "metadata": {},
   "source": [
    "Case 2: Creating 3 classes\n",
    "starsV2:\n",
    "    labels 1-2 = bad (0)\n",
    "    Label 3 = Neutral (1)\n",
    "    labels 4-5 = good (2)"
   ]
  },
  {
   "cell_type": "code",
   "execution_count": 43,
   "metadata": {},
   "outputs": [
    {
     "name": "stderr",
     "output_type": "stream",
     "text": [
      "C:\\Users\\soumy\\AppData\\Local\\Temp\\ipykernel_9568\\3095888758.py:1: DeprecationWarning: In a future version, `df.iloc[:, i] = newvals` will attempt to set the values inplace instead of always setting a new array. To retain the old behavior, use either `df[df.columns[i]] = newvals` or, if columns are non-unique, `df.isetitem(i, newvals)`\n",
      "  yelp_reviews.loc[:, 'starsv2'] = 2\n"
     ]
    }
   ],
   "source": [
    "yelp_reviews.loc[:, 'starsv2'] = 2\n",
    "yelp_reviews.loc[yelp_reviews.loc[:,'stars'] < 3, 'starsv2'] = 0\n",
    "yelp_reviews.loc[yelp_reviews.loc[:,'stars'] == 3, 'starsv2'] = 1"
   ]
  },
  {
   "cell_type": "code",
   "execution_count": 20,
   "metadata": {},
   "outputs": [
    {
     "data": {
      "text/html": [
       "<div>\n",
       "<style scoped>\n",
       "    .dataframe tbody tr th:only-of-type {\n",
       "        vertical-align: middle;\n",
       "    }\n",
       "\n",
       "    .dataframe tbody tr th {\n",
       "        vertical-align: top;\n",
       "    }\n",
       "\n",
       "    .dataframe thead th {\n",
       "        text-align: right;\n",
       "    }\n",
       "</style>\n",
       "<table border=\"1\" class=\"dataframe\">\n",
       "  <thead>\n",
       "    <tr style=\"text-align: right;\">\n",
       "      <th></th>\n",
       "      <th>text</th>\n",
       "      <th>stars</th>\n",
       "      <th>useful</th>\n",
       "      <th>funny</th>\n",
       "      <th>cool</th>\n",
       "      <th>starsv1</th>\n",
       "      <th>starsv2</th>\n",
       "    </tr>\n",
       "  </thead>\n",
       "  <tbody>\n",
       "    <tr>\n",
       "      <th>28</th>\n",
       "      <td>[recently, dinner, wife, weekend, could, pleas...</td>\n",
       "      <td>5</td>\n",
       "      <td>1</td>\n",
       "      <td>0</td>\n",
       "      <td>0</td>\n",
       "      <td>1</td>\n",
       "      <td>2</td>\n",
       "    </tr>\n",
       "    <tr>\n",
       "      <th>32</th>\n",
       "      <td>[great, staff, always, help, always, nice, alw...</td>\n",
       "      <td>5</td>\n",
       "      <td>1</td>\n",
       "      <td>0</td>\n",
       "      <td>1</td>\n",
       "      <td>1</td>\n",
       "      <td>2</td>\n",
       "    </tr>\n",
       "    <tr>\n",
       "      <th>62</th>\n",
       "      <td>[love, weaver, way, really, disagree, content,...</td>\n",
       "      <td>5</td>\n",
       "      <td>7</td>\n",
       "      <td>0</td>\n",
       "      <td>3</td>\n",
       "      <td>1</td>\n",
       "      <td>2</td>\n",
       "    </tr>\n",
       "    <tr>\n",
       "      <th>72</th>\n",
       "      <td>[living, stl, area, way, 10, year, ashamed, re...</td>\n",
       "      <td>5</td>\n",
       "      <td>0</td>\n",
       "      <td>0</td>\n",
       "      <td>0</td>\n",
       "      <td>1</td>\n",
       "      <td>2</td>\n",
       "    </tr>\n",
       "    <tr>\n",
       "      <th>79</th>\n",
       "      <td>[visited, disappointed, veggie, pizza, husband...</td>\n",
       "      <td>1</td>\n",
       "      <td>0</td>\n",
       "      <td>0</td>\n",
       "      <td>0</td>\n",
       "      <td>0</td>\n",
       "      <td>0</td>\n",
       "    </tr>\n",
       "  </tbody>\n",
       "</table>\n",
       "</div>"
      ],
      "text/plain": [
       "                                                 text  stars  useful  funny  \\\n",
       "28  [recently, dinner, wife, weekend, could, pleas...      5       1      0   \n",
       "32  [great, staff, always, help, always, nice, alw...      5       1      0   \n",
       "62  [love, weaver, way, really, disagree, content,...      5       7      0   \n",
       "72  [living, stl, area, way, 10, year, ashamed, re...      5       0      0   \n",
       "79  [visited, disappointed, veggie, pizza, husband...      1       0      0   \n",
       "\n",
       "    cool  starsv1  starsv2  \n",
       "28     0        1        2  \n",
       "32     1        1        2  \n",
       "62     3        1        2  \n",
       "72     0        1        2  \n",
       "79     0        0        0  "
      ]
     },
     "execution_count": 20,
     "metadata": {},
     "output_type": "execute_result"
    }
   ],
   "source": [
    "yelp_reviews.head()"
   ]
  },
  {
   "cell_type": "code",
   "execution_count": 21,
   "metadata": {},
   "outputs": [],
   "source": [
    "#For dichotomous data in starsV1\n",
    "dict_pos_v1 = {}\n",
    "dict_neg_v1 = {}\n",
    "for list_w, star in zip(yelp_reviews.loc[:,'text'], yelp_reviews.loc[:,'starsv1']):\n",
    "    if  star == 1:\n",
    "        for word in list_w:\n",
    "            if word not in dict_pos_v1:\n",
    "                dict_pos_v1[word] = 0\n",
    "            dict_pos_v1[word] += 1\n",
    "    else:\n",
    "        for word in list_w:\n",
    "            if word not in dict_neg_v1:\n",
    "                dict_neg_v1[word] = 0\n",
    "            dict_neg_v1[word] += 1\n",
    "\n",
    "\n"
   ]
  },
  {
   "cell_type": "code",
   "execution_count": 22,
   "metadata": {},
   "outputs": [],
   "source": [
    "#For data in starsV2\n",
    "dict_pos_v2 = {}\n",
    "dict_neg_v2 = {}\n",
    "dict_neut_v2 ={}\n",
    "for list_w, star in zip(yelp_reviews.loc[:,'text'], yelp_reviews.loc[:,'starsv2']):\n",
    "    if  star == 2:\n",
    "        for word in list_w:\n",
    "            if word not in dict_pos_v2:\n",
    "                dict_pos_v2[word] = 0\n",
    "            dict_pos_v2[word] += 1\n",
    "    elif star == 0:\n",
    "        for word in list_w:\n",
    "            if word not in dict_neg_v2:\n",
    "                dict_neg_v2[word] = 0\n",
    "            dict_neg_v2[word] += 1\n",
    "    else:\n",
    "        for word in list_w:\n",
    "            if word not in dict_neut_v2:\n",
    "                dict_neut_v2[word] = 0\n",
    "            dict_neut_v2[word] += 1"
   ]
  },
  {
   "cell_type": "code",
   "execution_count": 23,
   "metadata": {},
   "outputs": [],
   "source": [
    "def cumulative_count(list_tokens, pos_dict, neg_dict, neut_dict = {}):\n",
    "    count_dict = {'pos':0, 'neg':0, 'neut':0}\n",
    "    for word in list_tokens:\n",
    "        if word in pos_dict:\n",
    "            count_dict['pos'] += pos_dict[word]\n",
    "        if word in neg_dict:\n",
    "            count_dict['neg'] += neg_dict[word]\n",
    "        if word in neut_dict:\n",
    "            count_dict['neut'] += neut_dict[word]    \n",
    "    return count_dict"
   ]
  },
  {
   "cell_type": "code",
   "execution_count": 24,
   "metadata": {},
   "outputs": [],
   "source": [
    "yelp_reviews.loc[:,'cum_count_v1'] = yelp_reviews.loc[:,'text'].apply(lambda x: cumulative_count(x, dict_pos_v1, dict_neg_v1))\n",
    "yelp_reviews.loc[:,'cum_count_v2'] = yelp_reviews.loc[:,'text'].apply(lambda x: cumulative_count(x, dict_pos_v2, dict_neg_v2, dict_neut_v2))\n"
   ]
  },
  {
   "cell_type": "code",
   "execution_count": 25,
   "metadata": {},
   "outputs": [],
   "source": [
    "def split_dict(dict_c, key):\n",
    "    return dict_c[key]\n"
   ]
  },
  {
   "cell_type": "code",
   "execution_count": 26,
   "metadata": {},
   "outputs": [],
   "source": [
    "yelp_reviews.loc[:,'posv1'] = yelp_reviews.loc[:, 'cum_count_v1'].apply(lambda x: split_dict(x,'pos'))\n",
    "yelp_reviews.loc[:,'negv1'] = yelp_reviews.loc[:, 'cum_count_v1'].apply(lambda x: split_dict(x,'neg'))\n",
    "yelp_reviews.loc[:,'posv2'] = yelp_reviews.loc[:, 'cum_count_v2'].apply(lambda x: split_dict(x,'pos'))\n",
    "yelp_reviews.loc[:,'neutv2'] = yelp_reviews.loc[:, 'cum_count_v2'].apply(lambda x: split_dict(x,'neut'))\n",
    "yelp_reviews.loc[:,'negv2'] = yelp_reviews.loc[:, 'cum_count_v2'].apply(lambda x: split_dict(x,'neg'))"
   ]
  },
  {
   "cell_type": "code",
   "execution_count": 27,
   "metadata": {},
   "outputs": [],
   "source": [
    "yelp_reviews.drop('cum_count_v1', axis=1, inplace=True)\n",
    "yelp_reviews.drop('cum_count_v2', axis=1, inplace=True)"
   ]
  },
  {
   "cell_type": "code",
   "execution_count": 28,
   "metadata": {},
   "outputs": [],
   "source": [
    "yelp_reviews.to_csv('yelp_dataset.csv')"
   ]
  },
  {
   "cell_type": "code",
   "execution_count": null,
   "metadata": {},
   "outputs": [],
   "source": []
  },
  {
   "cell_type": "code",
   "execution_count": 29,
   "metadata": {},
   "outputs": [],
   "source": [
    "#Normalizing data\n",
    "col_list = ['posv1', 'negv1', 'posv2', 'neutv2', 'negv2']\n",
    "for col in col_list:\n",
    "    yelp_reviews.loc[:,col] = (yelp_reviews.loc[:,col] - yelp_reviews.loc[:,col].mean())/yelp_reviews.loc[:,col].std()"
   ]
  },
  {
   "cell_type": "code",
   "execution_count": 44,
   "metadata": {},
   "outputs": [
    {
     "data": {
      "text/html": [
       "<div>\n",
       "<style scoped>\n",
       "    .dataframe tbody tr th:only-of-type {\n",
       "        vertical-align: middle;\n",
       "    }\n",
       "\n",
       "    .dataframe tbody tr th {\n",
       "        vertical-align: top;\n",
       "    }\n",
       "\n",
       "    .dataframe thead th {\n",
       "        text-align: right;\n",
       "    }\n",
       "</style>\n",
       "<table border=\"1\" class=\"dataframe\">\n",
       "  <thead>\n",
       "    <tr style=\"text-align: right;\">\n",
       "      <th></th>\n",
       "      <th>text</th>\n",
       "      <th>stars</th>\n",
       "      <th>useful</th>\n",
       "      <th>funny</th>\n",
       "      <th>cool</th>\n",
       "      <th>starsv1</th>\n",
       "      <th>starsv2</th>\n",
       "      <th>posv1</th>\n",
       "      <th>negv1</th>\n",
       "      <th>posv2</th>\n",
       "      <th>neutv2</th>\n",
       "      <th>negv2</th>\n",
       "    </tr>\n",
       "  </thead>\n",
       "  <tbody>\n",
       "    <tr>\n",
       "      <th>28</th>\n",
       "      <td>[recently, dinner, wife, weekend, could, pleas...</td>\n",
       "      <td>5</td>\n",
       "      <td>1</td>\n",
       "      <td>0</td>\n",
       "      <td>0</td>\n",
       "      <td>1</td>\n",
       "      <td>2</td>\n",
       "      <td>-0.345351</td>\n",
       "      <td>-0.438980</td>\n",
       "      <td>-0.345351</td>\n",
       "      <td>-0.404141</td>\n",
       "      <td>-0.449275</td>\n",
       "    </tr>\n",
       "    <tr>\n",
       "      <th>32</th>\n",
       "      <td>[great, staff, always, help, always, nice, alw...</td>\n",
       "      <td>5</td>\n",
       "      <td>1</td>\n",
       "      <td>0</td>\n",
       "      <td>1</td>\n",
       "      <td>1</td>\n",
       "      <td>2</td>\n",
       "      <td>-0.444896</td>\n",
       "      <td>-0.725067</td>\n",
       "      <td>-0.444896</td>\n",
       "      <td>-0.689614</td>\n",
       "      <td>-0.732774</td>\n",
       "    </tr>\n",
       "    <tr>\n",
       "      <th>62</th>\n",
       "      <td>[love, weaver, way, really, disagree, content,...</td>\n",
       "      <td>5</td>\n",
       "      <td>7</td>\n",
       "      <td>0</td>\n",
       "      <td>3</td>\n",
       "      <td>1</td>\n",
       "      <td>2</td>\n",
       "      <td>1.785497</td>\n",
       "      <td>1.484193</td>\n",
       "      <td>1.785497</td>\n",
       "      <td>1.529289</td>\n",
       "      <td>1.450450</td>\n",
       "    </tr>\n",
       "    <tr>\n",
       "      <th>72</th>\n",
       "      <td>[living, stl, area, way, 10, year, ashamed, re...</td>\n",
       "      <td>5</td>\n",
       "      <td>0</td>\n",
       "      <td>0</td>\n",
       "      <td>0</td>\n",
       "      <td>1</td>\n",
       "      <td>2</td>\n",
       "      <td>2.910960</td>\n",
       "      <td>2.098070</td>\n",
       "      <td>2.910960</td>\n",
       "      <td>2.604430</td>\n",
       "      <td>1.864096</td>\n",
       "    </tr>\n",
       "    <tr>\n",
       "      <th>79</th>\n",
       "      <td>[visited, disappointed, veggie, pizza, husband...</td>\n",
       "      <td>1</td>\n",
       "      <td>0</td>\n",
       "      <td>0</td>\n",
       "      <td>0</td>\n",
       "      <td>0</td>\n",
       "      <td>0</td>\n",
       "      <td>-0.739448</td>\n",
       "      <td>-0.628690</td>\n",
       "      <td>-0.739448</td>\n",
       "      <td>-0.622774</td>\n",
       "      <td>-0.624925</td>\n",
       "    </tr>\n",
       "  </tbody>\n",
       "</table>\n",
       "</div>"
      ],
      "text/plain": [
       "                                                 text  stars  useful  funny  \\\n",
       "28  [recently, dinner, wife, weekend, could, pleas...      5       1      0   \n",
       "32  [great, staff, always, help, always, nice, alw...      5       1      0   \n",
       "62  [love, weaver, way, really, disagree, content,...      5       7      0   \n",
       "72  [living, stl, area, way, 10, year, ashamed, re...      5       0      0   \n",
       "79  [visited, disappointed, veggie, pizza, husband...      1       0      0   \n",
       "\n",
       "    cool  starsv1  starsv2     posv1     negv1     posv2    neutv2     negv2  \n",
       "28     0        1        2 -0.345351 -0.438980 -0.345351 -0.404141 -0.449275  \n",
       "32     1        1        2 -0.444896 -0.725067 -0.444896 -0.689614 -0.732774  \n",
       "62     3        1        2  1.785497  1.484193  1.785497  1.529289  1.450450  \n",
       "72     0        1        2  2.910960  2.098070  2.910960  2.604430  1.864096  \n",
       "79     0        0        0 -0.739448 -0.628690 -0.739448 -0.622774 -0.624925  "
      ]
     },
     "execution_count": 44,
     "metadata": {},
     "output_type": "execute_result"
    }
   ],
   "source": [
    "yelp_reviews.head()"
   ]
  },
  {
   "attachments": {},
   "cell_type": "markdown",
   "metadata": {},
   "source": [
    "**Binary Data with all Labels**"
   ]
  },
  {
   "cell_type": "code",
   "execution_count": null,
   "metadata": {},
   "outputs": [],
   "source": []
  },
  {
   "cell_type": "code",
   "execution_count": 62,
   "metadata": {},
   "outputs": [],
   "source": [
    "X = yelp_reviews.loc[:,['posv1', 'negv1', 'useful', 'funny', 'cool']].to_numpy()\n",
    "y = yelp_reviews.loc[:,'starsv1'].to_numpy()\n",
    "clf = LogisticRegression()\n",
    "X_train, X_test, y_train, y_test = train_test_split(X, y, test_size=0.2, random_state=42)\n",
    "clf.fit(X_train, y_train)\n",
    "y_pred = clf.predict(X_test)"
   ]
  },
  {
   "cell_type": "code",
   "execution_count": 63,
   "metadata": {},
   "outputs": [],
   "source": [
    "accuracy_v1 = accuracy_score(y_test, y_pred)\n",
    "precision_v1 = precision_score(y_test, y_pred, average='weighted')\n",
    "f1_v1 = f1_score(y_test, y_pred, average='weighted')\n",
    "recall_v1 = recall_score(y_test, y_pred, average='weighted')"
   ]
  },
  {
   "cell_type": "code",
   "execution_count": 64,
   "metadata": {},
   "outputs": [
    {
     "name": "stdout",
     "output_type": "stream",
     "text": [
      "Accuracy: 0.8119680128177618\n",
      "Precision: 0.8079780190065572\n",
      "Recall: 0.8119680128177618\n",
      "F1 Score: 0.8079392347761343\n"
     ]
    }
   ],
   "source": [
    "print(f\"Accuracy: {accuracy_v1}\")\n",
    "print(f\"Precision: {precision_v1}\")\n",
    "print(f\"Recall: {recall_v1}\")\n",
    "print(f\"F1 Score: {f1_v1}\")"
   ]
  },
  {
   "attachments": {},
   "cell_type": "markdown",
   "metadata": {},
   "source": [
    "**Binary data with random forest to select important features**"
   ]
  },
  {
   "cell_type": "code",
   "execution_count": 65,
   "metadata": {},
   "outputs": [
    {
     "data": {
      "text/html": [
       "<style>#sk-container-id-3 {color: black;background-color: white;}#sk-container-id-3 pre{padding: 0;}#sk-container-id-3 div.sk-toggleable {background-color: white;}#sk-container-id-3 label.sk-toggleable__label {cursor: pointer;display: block;width: 100%;margin-bottom: 0;padding: 0.3em;box-sizing: border-box;text-align: center;}#sk-container-id-3 label.sk-toggleable__label-arrow:before {content: \"▸\";float: left;margin-right: 0.25em;color: #696969;}#sk-container-id-3 label.sk-toggleable__label-arrow:hover:before {color: black;}#sk-container-id-3 div.sk-estimator:hover label.sk-toggleable__label-arrow:before {color: black;}#sk-container-id-3 div.sk-toggleable__content {max-height: 0;max-width: 0;overflow: hidden;text-align: left;background-color: #f0f8ff;}#sk-container-id-3 div.sk-toggleable__content pre {margin: 0.2em;color: black;border-radius: 0.25em;background-color: #f0f8ff;}#sk-container-id-3 input.sk-toggleable__control:checked~div.sk-toggleable__content {max-height: 200px;max-width: 100%;overflow: auto;}#sk-container-id-3 input.sk-toggleable__control:checked~label.sk-toggleable__label-arrow:before {content: \"▾\";}#sk-container-id-3 div.sk-estimator input.sk-toggleable__control:checked~label.sk-toggleable__label {background-color: #d4ebff;}#sk-container-id-3 div.sk-label input.sk-toggleable__control:checked~label.sk-toggleable__label {background-color: #d4ebff;}#sk-container-id-3 input.sk-hidden--visually {border: 0;clip: rect(1px 1px 1px 1px);clip: rect(1px, 1px, 1px, 1px);height: 1px;margin: -1px;overflow: hidden;padding: 0;position: absolute;width: 1px;}#sk-container-id-3 div.sk-estimator {font-family: monospace;background-color: #f0f8ff;border: 1px dotted black;border-radius: 0.25em;box-sizing: border-box;margin-bottom: 0.5em;}#sk-container-id-3 div.sk-estimator:hover {background-color: #d4ebff;}#sk-container-id-3 div.sk-parallel-item::after {content: \"\";width: 100%;border-bottom: 1px solid gray;flex-grow: 1;}#sk-container-id-3 div.sk-label:hover label.sk-toggleable__label {background-color: #d4ebff;}#sk-container-id-3 div.sk-serial::before {content: \"\";position: absolute;border-left: 1px solid gray;box-sizing: border-box;top: 0;bottom: 0;left: 50%;z-index: 0;}#sk-container-id-3 div.sk-serial {display: flex;flex-direction: column;align-items: center;background-color: white;padding-right: 0.2em;padding-left: 0.2em;position: relative;}#sk-container-id-3 div.sk-item {position: relative;z-index: 1;}#sk-container-id-3 div.sk-parallel {display: flex;align-items: stretch;justify-content: center;background-color: white;position: relative;}#sk-container-id-3 div.sk-item::before, #sk-container-id-3 div.sk-parallel-item::before {content: \"\";position: absolute;border-left: 1px solid gray;box-sizing: border-box;top: 0;bottom: 0;left: 50%;z-index: -1;}#sk-container-id-3 div.sk-parallel-item {display: flex;flex-direction: column;z-index: 1;position: relative;background-color: white;}#sk-container-id-3 div.sk-parallel-item:first-child::after {align-self: flex-end;width: 50%;}#sk-container-id-3 div.sk-parallel-item:last-child::after {align-self: flex-start;width: 50%;}#sk-container-id-3 div.sk-parallel-item:only-child::after {width: 0;}#sk-container-id-3 div.sk-dashed-wrapped {border: 1px dashed gray;margin: 0 0.4em 0.5em 0.4em;box-sizing: border-box;padding-bottom: 0.4em;background-color: white;}#sk-container-id-3 div.sk-label label {font-family: monospace;font-weight: bold;display: inline-block;line-height: 1.2em;}#sk-container-id-3 div.sk-label-container {text-align: center;}#sk-container-id-3 div.sk-container {/* jupyter's `normalize.less` sets `[hidden] { display: none; }` but bootstrap.min.css set `[hidden] { display: none !important; }` so we also need the `!important` here to be able to override the default hidden behavior on the sphinx rendered scikit-learn.org. See: https://github.com/scikit-learn/scikit-learn/issues/21755 */display: inline-block !important;position: relative;}#sk-container-id-3 div.sk-text-repr-fallback {display: none;}</style><div id=\"sk-container-id-3\" class=\"sk-top-container\"><div class=\"sk-text-repr-fallback\"><pre>SelectFromModel(estimator=RandomForestClassifier())</pre><b>In a Jupyter environment, please rerun this cell to show the HTML representation or trust the notebook. <br />On GitHub, the HTML representation is unable to render, please try loading this page with nbviewer.org.</b></div><div class=\"sk-container\" hidden><div class=\"sk-item sk-dashed-wrapped\"><div class=\"sk-label-container\"><div class=\"sk-label sk-toggleable\"><input class=\"sk-toggleable__control sk-hidden--visually\" id=\"sk-estimator-id-3\" type=\"checkbox\" ><label for=\"sk-estimator-id-3\" class=\"sk-toggleable__label sk-toggleable__label-arrow\">SelectFromModel</label><div class=\"sk-toggleable__content\"><pre>SelectFromModel(estimator=RandomForestClassifier())</pre></div></div></div><div class=\"sk-parallel\"><div class=\"sk-parallel-item\"><div class=\"sk-item\"><div class=\"sk-label-container\"><div class=\"sk-label sk-toggleable\"><input class=\"sk-toggleable__control sk-hidden--visually\" id=\"sk-estimator-id-4\" type=\"checkbox\" ><label for=\"sk-estimator-id-4\" class=\"sk-toggleable__label sk-toggleable__label-arrow\">estimator: RandomForestClassifier</label><div class=\"sk-toggleable__content\"><pre>RandomForestClassifier()</pre></div></div></div><div class=\"sk-serial\"><div class=\"sk-item\"><div class=\"sk-estimator sk-toggleable\"><input class=\"sk-toggleable__control sk-hidden--visually\" id=\"sk-estimator-id-5\" type=\"checkbox\" ><label for=\"sk-estimator-id-5\" class=\"sk-toggleable__label sk-toggleable__label-arrow\">RandomForestClassifier</label><div class=\"sk-toggleable__content\"><pre>RandomForestClassifier()</pre></div></div></div></div></div></div></div></div></div></div>"
      ],
      "text/plain": [
       "SelectFromModel(estimator=RandomForestClassifier())"
      ]
     },
     "execution_count": 65,
     "metadata": {},
     "output_type": "execute_result"
    }
   ],
   "source": [
    "selection = SelectFromModel(RandomForestClassifier(n_estimators=100))\n",
    "selection.fit(X_train, y_train)"
   ]
  },
  {
   "cell_type": "code",
   "execution_count": 66,
   "metadata": {},
   "outputs": [
    {
     "data": {
      "text/plain": [
       "array([ True,  True, False, False, False])"
      ]
     },
     "execution_count": 66,
     "metadata": {},
     "output_type": "execute_result"
    }
   ],
   "source": [
    "selection.get_support()"
   ]
  },
  {
   "attachments": {},
   "cell_type": "markdown",
   "metadata": {},
   "source": [
    "The results from the random forest show that only the first two features i.e. posv1 and negv1 are important. Running the model again using these two features."
   ]
  },
  {
   "cell_type": "code",
   "execution_count": 45,
   "metadata": {},
   "outputs": [],
   "source": [
    "#Plot based on features\n",
    "X_rf = yelp_reviews.loc[:,['posv1', 'negv1']].to_numpy()\n",
    "y_rf = yelp_reviews.loc[:,'starsv1'].to_numpy()\n"
   ]
  },
  {
   "cell_type": "code",
   "execution_count": 47,
   "metadata": {},
   "outputs": [],
   "source": [
    "clf_rf = LogisticRegression()\n",
    "X_train_rf, X_test_rf, y_train_rf, y_test_rf = train_test_split(X_rf, y_rf, test_size=0.2, random_state=42)\n",
    "clf_rf.fit(X_train_rf, y_train_rf)\n",
    "y_pred_rf = clf_rf.predict(X_test_rf)"
   ]
  },
  {
   "cell_type": "code",
   "execution_count": null,
   "metadata": {},
   "outputs": [],
   "source": [
    "mycolors = {\"blue\": \"steelblue\", \"red\": \"#a76c6e\"}\n",
    "colorlist = [c for (n,c) in mycolors.items()]\n",
    "colors = [colorlist[np.argmax(yk)] for yk in y]\n",
    "fig, ax = plt.subplots(nrows=1, ncols=1, figsize=(8,8))\n",
    "# cmap = ListedColormap([\n",
    "#     colorConverter.to_rgba('steelblue', alpha=0.30),\n",
    "#     colorConverter.to_rgba('#a76c63', alpha=0.30)])\n",
    "# plt.contourf(xx, yy, grid_pred, cmap=cmap)\n",
    "plt.scatter(X_rf[:,0], X_rf[:,1], color=colors, s=100, alpha=0.9)\n",
    "plt.axis('off')"
   ]
  },
  {
   "cell_type": "code",
   "execution_count": 76,
   "metadata": {},
   "outputs": [
    {
     "data": {
      "text/plain": [
       "0.7435309857137702"
      ]
     },
     "execution_count": 76,
     "metadata": {},
     "output_type": "execute_result"
    }
   ],
   "source": [
    "accuracy_rf = accuracy_score(y_test_rf, y_pred_rf)\n",
    "precision_rf = precision_score(y_test_rf, y_pred_rf, average='weighted')\n",
    "f1_rf = f1_score(y_test_rf, y_pred_rf, average='weighted')\n",
    "recall_rf = recall_score(y_test_rf, y_pred_rf, average='weighted')\n",
    "sklearn.metrics.roc_auc_score(y_test_rf, y_pred_rf)"
   ]
  },
  {
   "cell_type": "code",
   "execution_count": 49,
   "metadata": {},
   "outputs": [
    {
     "name": "stdout",
     "output_type": "stream",
     "text": [
      "Accuracy: 0.8050584381213968\n",
      "Precision: 0.8027362137140678\n",
      "Recall: 0.8050584381213968\n",
      "F1 Score: 0.795275199979793\n"
     ]
    }
   ],
   "source": [
    "print(f\"Accuracy: {accuracy_rf}\")\n",
    "print(f\"Precision: {precision_rf}\")\n",
    "print(f\"Recall: {recall_rf}\")\n",
    "print(f\"F1 Score: {f1_rf}\")"
   ]
  },
  {
   "attachments": {},
   "cell_type": "markdown",
   "metadata": {},
   "source": [
    "**3 classes **"
   ]
  },
  {
   "cell_type": "code",
   "execution_count": 50,
   "metadata": {},
   "outputs": [],
   "source": [
    "X = yelp_reviews.loc[:,['posv2', 'neutv2', 'negv2']]\n",
    "y = yelp_reviews.loc[:,'starsv2']\n",
    "X_train, X_test, y_train, y_test = train_test_split(X, y, test_size=0.2, random_state=42)"
   ]
  },
  {
   "cell_type": "code",
   "execution_count": 51,
   "metadata": {},
   "outputs": [
    {
     "data": {
      "text/html": [
       "<style>#sk-container-id-1 {color: black;background-color: white;}#sk-container-id-1 pre{padding: 0;}#sk-container-id-1 div.sk-toggleable {background-color: white;}#sk-container-id-1 label.sk-toggleable__label {cursor: pointer;display: block;width: 100%;margin-bottom: 0;padding: 0.3em;box-sizing: border-box;text-align: center;}#sk-container-id-1 label.sk-toggleable__label-arrow:before {content: \"▸\";float: left;margin-right: 0.25em;color: #696969;}#sk-container-id-1 label.sk-toggleable__label-arrow:hover:before {color: black;}#sk-container-id-1 div.sk-estimator:hover label.sk-toggleable__label-arrow:before {color: black;}#sk-container-id-1 div.sk-toggleable__content {max-height: 0;max-width: 0;overflow: hidden;text-align: left;background-color: #f0f8ff;}#sk-container-id-1 div.sk-toggleable__content pre {margin: 0.2em;color: black;border-radius: 0.25em;background-color: #f0f8ff;}#sk-container-id-1 input.sk-toggleable__control:checked~div.sk-toggleable__content {max-height: 200px;max-width: 100%;overflow: auto;}#sk-container-id-1 input.sk-toggleable__control:checked~label.sk-toggleable__label-arrow:before {content: \"▾\";}#sk-container-id-1 div.sk-estimator input.sk-toggleable__control:checked~label.sk-toggleable__label {background-color: #d4ebff;}#sk-container-id-1 div.sk-label input.sk-toggleable__control:checked~label.sk-toggleable__label {background-color: #d4ebff;}#sk-container-id-1 input.sk-hidden--visually {border: 0;clip: rect(1px 1px 1px 1px);clip: rect(1px, 1px, 1px, 1px);height: 1px;margin: -1px;overflow: hidden;padding: 0;position: absolute;width: 1px;}#sk-container-id-1 div.sk-estimator {font-family: monospace;background-color: #f0f8ff;border: 1px dotted black;border-radius: 0.25em;box-sizing: border-box;margin-bottom: 0.5em;}#sk-container-id-1 div.sk-estimator:hover {background-color: #d4ebff;}#sk-container-id-1 div.sk-parallel-item::after {content: \"\";width: 100%;border-bottom: 1px solid gray;flex-grow: 1;}#sk-container-id-1 div.sk-label:hover label.sk-toggleable__label {background-color: #d4ebff;}#sk-container-id-1 div.sk-serial::before {content: \"\";position: absolute;border-left: 1px solid gray;box-sizing: border-box;top: 0;bottom: 0;left: 50%;z-index: 0;}#sk-container-id-1 div.sk-serial {display: flex;flex-direction: column;align-items: center;background-color: white;padding-right: 0.2em;padding-left: 0.2em;position: relative;}#sk-container-id-1 div.sk-item {position: relative;z-index: 1;}#sk-container-id-1 div.sk-parallel {display: flex;align-items: stretch;justify-content: center;background-color: white;position: relative;}#sk-container-id-1 div.sk-item::before, #sk-container-id-1 div.sk-parallel-item::before {content: \"\";position: absolute;border-left: 1px solid gray;box-sizing: border-box;top: 0;bottom: 0;left: 50%;z-index: -1;}#sk-container-id-1 div.sk-parallel-item {display: flex;flex-direction: column;z-index: 1;position: relative;background-color: white;}#sk-container-id-1 div.sk-parallel-item:first-child::after {align-self: flex-end;width: 50%;}#sk-container-id-1 div.sk-parallel-item:last-child::after {align-self: flex-start;width: 50%;}#sk-container-id-1 div.sk-parallel-item:only-child::after {width: 0;}#sk-container-id-1 div.sk-dashed-wrapped {border: 1px dashed gray;margin: 0 0.4em 0.5em 0.4em;box-sizing: border-box;padding-bottom: 0.4em;background-color: white;}#sk-container-id-1 div.sk-label label {font-family: monospace;font-weight: bold;display: inline-block;line-height: 1.2em;}#sk-container-id-1 div.sk-label-container {text-align: center;}#sk-container-id-1 div.sk-container {/* jupyter's `normalize.less` sets `[hidden] { display: none; }` but bootstrap.min.css set `[hidden] { display: none !important; }` so we also need the `!important` here to be able to override the default hidden behavior on the sphinx rendered scikit-learn.org. See: https://github.com/scikit-learn/scikit-learn/issues/21755 */display: inline-block !important;position: relative;}#sk-container-id-1 div.sk-text-repr-fallback {display: none;}</style><div id=\"sk-container-id-1\" class=\"sk-top-container\"><div class=\"sk-text-repr-fallback\"><pre>LogisticRegression(multi_class=&#x27;ovr&#x27;, solver=&#x27;liblinear&#x27;)</pre><b>In a Jupyter environment, please rerun this cell to show the HTML representation or trust the notebook. <br />On GitHub, the HTML representation is unable to render, please try loading this page with nbviewer.org.</b></div><div class=\"sk-container\" hidden><div class=\"sk-item\"><div class=\"sk-estimator sk-toggleable\"><input class=\"sk-toggleable__control sk-hidden--visually\" id=\"sk-estimator-id-1\" type=\"checkbox\" checked><label for=\"sk-estimator-id-1\" class=\"sk-toggleable__label sk-toggleable__label-arrow\">LogisticRegression</label><div class=\"sk-toggleable__content\"><pre>LogisticRegression(multi_class=&#x27;ovr&#x27;, solver=&#x27;liblinear&#x27;)</pre></div></div></div></div></div>"
      ],
      "text/plain": [
       "LogisticRegression(multi_class='ovr', solver='liblinear')"
      ]
     },
     "execution_count": 51,
     "metadata": {},
     "output_type": "execute_result"
    }
   ],
   "source": [
    "lrm = LogisticRegression(multi_class='ovr', solver='liblinear')\n",
    "lrm.fit(X_train, y_train)"
   ]
  },
  {
   "cell_type": "code",
   "execution_count": 52,
   "metadata": {},
   "outputs": [],
   "source": [
    "yhat = lrm.predict(X_test)"
   ]
  },
  {
   "cell_type": "code",
   "execution_count": 53,
   "metadata": {},
   "outputs": [
    {
     "data": {
      "text/plain": [
       "array([[19882,   381, 11892],\n",
       "       [ 3550,   699,  9748],\n",
       "       [ 4057,   606, 88991]], dtype=int64)"
      ]
     },
     "execution_count": 53,
     "metadata": {},
     "output_type": "execute_result"
    }
   ],
   "source": [
    "metrics.confusion_matrix(y_test ,yhat)"
   ]
  },
  {
   "cell_type": "code",
   "execution_count": 54,
   "metadata": {},
   "outputs": [
    {
     "data": {
      "text/plain": [
       "'              precision    recall  f1-score   support\\n\\n           0       0.72      0.62      0.67     32155\\n           1       0.41      0.05      0.09     13997\\n           2       0.80      0.95      0.87     93654\\n\\n    accuracy                           0.78    139806\\n   macro avg       0.65      0.54      0.54    139806\\nweighted avg       0.75      0.78      0.75    139806\\n'"
      ]
     },
     "execution_count": 54,
     "metadata": {},
     "output_type": "execute_result"
    }
   ],
   "source": [
    "metrics.classification_report(y_test, yhat)"
   ]
  },
  {
   "attachments": {},
   "cell_type": "markdown",
   "metadata": {},
   "source": [
    "It seems like the logistic regression model with two classes (0 for stars 1-3 and 1 for stars 4-5) works better as compared to the three class model. Furthermore, using the random forest model, we were able to identify the best features for our model i.e. posv1 (number of occurences of words in text in positive connotation) and negv1 (number of occurences of words in text in negative connotation)"
   ]
  },
  {
   "attachments": {},
   "cell_type": "markdown",
   "metadata": {},
   "source": [
    "**CHECKPOINT 2+**\n",
    "Using adjectives as features"
   ]
  },
  {
   "cell_type": "code",
   "execution_count": 57,
   "metadata": {},
   "outputs": [],
   "source": [
    "def extract_adjectives(tokens):\n",
    "    tagged_tokens = pos_tag(tokens)\n",
    "    adjectives = [word for word, pos in tagged_tokens if pos.startswith('JJ')]\n",
    "    return adjectives"
   ]
  },
  {
   "cell_type": "code",
   "execution_count": 59,
   "metadata": {},
   "outputs": [],
   "source": [
    "yelp_reviews.loc[:,'adjectives'] = yelp_reviews.loc[:,'text'].apply(lambda x: extract_adjectives(x))\n"
   ]
  },
  {
   "cell_type": "code",
   "execution_count": 62,
   "metadata": {},
   "outputs": [],
   "source": [
    "yelp_adj = yelp_reviews.loc[:,['adjectives', 'starsv1']]"
   ]
  },
  {
   "cell_type": "code",
   "execution_count": 63,
   "metadata": {},
   "outputs": [
    {
     "data": {
      "text/html": [
       "<div>\n",
       "<style scoped>\n",
       "    .dataframe tbody tr th:only-of-type {\n",
       "        vertical-align: middle;\n",
       "    }\n",
       "\n",
       "    .dataframe tbody tr th {\n",
       "        vertical-align: top;\n",
       "    }\n",
       "\n",
       "    .dataframe thead th {\n",
       "        text-align: right;\n",
       "    }\n",
       "</style>\n",
       "<table border=\"1\" class=\"dataframe\">\n",
       "  <thead>\n",
       "    <tr style=\"text-align: right;\">\n",
       "      <th></th>\n",
       "      <th>adjectives</th>\n",
       "      <th>starsv1</th>\n",
       "    </tr>\n",
       "  </thead>\n",
       "  <tbody>\n",
       "    <tr>\n",
       "      <th>28</th>\n",
       "      <td>[meal, excellent, fresh, many, delicious, cant...</td>\n",
       "      <td>1</td>\n",
       "    </tr>\n",
       "    <tr>\n",
       "      <th>32</th>\n",
       "      <td>[great, nice, clean, huge]</td>\n",
       "      <td>1</td>\n",
       "    </tr>\n",
       "    <tr>\n",
       "      <th>62</th>\n",
       "      <td>[disagree, previous, single, coop, great, smal...</td>\n",
       "      <td>1</td>\n",
       "    </tr>\n",
       "    <tr>\n",
       "      <th>72</th>\n",
       "      <td>[stl, remorseful, first, st, louis, tour, many...</td>\n",
       "      <td>1</td>\n",
       "    </tr>\n",
       "    <tr>\n",
       "      <th>79</th>\n",
       "      <td>[disappointed, sandwich, enough, cheese, prepa...</td>\n",
       "      <td>0</td>\n",
       "    </tr>\n",
       "  </tbody>\n",
       "</table>\n",
       "</div>"
      ],
      "text/plain": [
       "                                           adjectives  starsv1\n",
       "28  [meal, excellent, fresh, many, delicious, cant...        1\n",
       "32                         [great, nice, clean, huge]        1\n",
       "62  [disagree, previous, single, coop, great, smal...        1\n",
       "72  [stl, remorseful, first, st, louis, tour, many...        1\n",
       "79  [disappointed, sandwich, enough, cheese, prepa...        0"
      ]
     },
     "execution_count": 63,
     "metadata": {},
     "output_type": "execute_result"
    }
   ],
   "source": [
    "yelp_adj.head()"
   ]
  },
  {
   "cell_type": "code",
   "execution_count": 64,
   "metadata": {},
   "outputs": [],
   "source": [
    "dict_pos_adj = {}\n",
    "dict_neg_adj = {}\n",
    "for list_w, star in zip(yelp_adj.loc[:,'adjectives'], yelp_adj.loc[:,'starsv1']):\n",
    "    if  star == 1:\n",
    "        for word in list_w:\n",
    "            if word not in dict_pos_adj:\n",
    "                dict_pos_adj[word] = 0\n",
    "            dict_pos_adj[word] += 1\n",
    "    else:\n",
    "        for word in list_w:\n",
    "            if word not in dict_neg_adj:\n",
    "                dict_neg_adj[word] = 0\n",
    "            dict_neg_adj[word] += 1\n"
   ]
  },
  {
   "cell_type": "code",
   "execution_count": 65,
   "metadata": {},
   "outputs": [],
   "source": [
    "yelp_adj.loc[:,'cum_count'] = yelp_adj.loc[:,'adjectives'].apply(lambda x: cumulative_count(x, dict_pos_adj, dict_neg_adj))"
   ]
  },
  {
   "cell_type": "code",
   "execution_count": 66,
   "metadata": {},
   "outputs": [],
   "source": [
    "yelp_adj.loc[:,'poscount'] = yelp_adj.loc[:, 'cum_count'].apply(lambda x: split_dict(x,'pos'))\n",
    "yelp_adj.loc[:,'negcount'] = yelp_adj.loc[:, 'cum_count'].apply(lambda x: split_dict(x,'neg'))"
   ]
  },
  {
   "cell_type": "code",
   "execution_count": 69,
   "metadata": {},
   "outputs": [
    {
     "data": {
      "text/html": [
       "<div>\n",
       "<style scoped>\n",
       "    .dataframe tbody tr th:only-of-type {\n",
       "        vertical-align: middle;\n",
       "    }\n",
       "\n",
       "    .dataframe tbody tr th {\n",
       "        vertical-align: top;\n",
       "    }\n",
       "\n",
       "    .dataframe thead th {\n",
       "        text-align: right;\n",
       "    }\n",
       "</style>\n",
       "<table border=\"1\" class=\"dataframe\">\n",
       "  <thead>\n",
       "    <tr style=\"text-align: right;\">\n",
       "      <th></th>\n",
       "      <th>adjectives</th>\n",
       "      <th>starsv1</th>\n",
       "      <th>poscount</th>\n",
       "      <th>negcount</th>\n",
       "    </tr>\n",
       "  </thead>\n",
       "  <tbody>\n",
       "    <tr>\n",
       "      <th>28</th>\n",
       "      <td>[meal, excellent, fresh, many, delicious, cant...</td>\n",
       "      <td>1</td>\n",
       "      <td>304032</td>\n",
       "      <td>93210</td>\n",
       "    </tr>\n",
       "    <tr>\n",
       "      <th>32</th>\n",
       "      <td>[great, nice, clean, huge]</td>\n",
       "      <td>1</td>\n",
       "      <td>384944</td>\n",
       "      <td>97036</td>\n",
       "    </tr>\n",
       "    <tr>\n",
       "      <th>62</th>\n",
       "      <td>[disagree, previous, single, coop, great, smal...</td>\n",
       "      <td>1</td>\n",
       "      <td>450581</td>\n",
       "      <td>165711</td>\n",
       "    </tr>\n",
       "    <tr>\n",
       "      <th>72</th>\n",
       "      <td>[stl, remorseful, first, st, louis, tour, many...</td>\n",
       "      <td>1</td>\n",
       "      <td>1397890</td>\n",
       "      <td>536966</td>\n",
       "    </tr>\n",
       "    <tr>\n",
       "      <th>79</th>\n",
       "      <td>[disappointed, sandwich, enough, cheese, prepa...</td>\n",
       "      <td>0</td>\n",
       "      <td>84579</td>\n",
       "      <td>56898</td>\n",
       "    </tr>\n",
       "  </tbody>\n",
       "</table>\n",
       "</div>"
      ],
      "text/plain": [
       "                                           adjectives  starsv1  poscount  \\\n",
       "28  [meal, excellent, fresh, many, delicious, cant...        1    304032   \n",
       "32                         [great, nice, clean, huge]        1    384944   \n",
       "62  [disagree, previous, single, coop, great, smal...        1    450581   \n",
       "72  [stl, remorseful, first, st, louis, tour, many...        1   1397890   \n",
       "79  [disappointed, sandwich, enough, cheese, prepa...        0     84579   \n",
       "\n",
       "    negcount  \n",
       "28     93210  \n",
       "32     97036  \n",
       "62    165711  \n",
       "72    536966  \n",
       "79     56898  "
      ]
     },
     "execution_count": 69,
     "metadata": {},
     "output_type": "execute_result"
    }
   ],
   "source": [
    "yelp_adj.head()"
   ]
  },
  {
   "cell_type": "code",
   "execution_count": 68,
   "metadata": {},
   "outputs": [],
   "source": [
    "yelp_adj.drop('cum_count', axis=1, inplace=True)"
   ]
  },
  {
   "cell_type": "code",
   "execution_count": 77,
   "metadata": {},
   "outputs": [],
   "source": [
    "yelp_adj.loc[:,'poscount'] = (yelp_adj.loc[:,'poscount']-yelp_adj.loc[:,'poscount'].mean())/yelp_adj.loc[:,'poscount'].std()\n",
    "yelp_adj.loc[:,'negcount'] = (yelp_adj.loc[:,'negcount']-yelp_adj.loc[:,'negcount'].mean())/yelp_adj.loc[:,'negcount'].std()"
   ]
  },
  {
   "cell_type": "code",
   "execution_count": 78,
   "metadata": {},
   "outputs": [
    {
     "data": {
      "text/html": [
       "<div>\n",
       "<style scoped>\n",
       "    .dataframe tbody tr th:only-of-type {\n",
       "        vertical-align: middle;\n",
       "    }\n",
       "\n",
       "    .dataframe tbody tr th {\n",
       "        vertical-align: top;\n",
       "    }\n",
       "\n",
       "    .dataframe thead th {\n",
       "        text-align: right;\n",
       "    }\n",
       "</style>\n",
       "<table border=\"1\" class=\"dataframe\">\n",
       "  <thead>\n",
       "    <tr style=\"text-align: right;\">\n",
       "      <th></th>\n",
       "      <th>adjectives</th>\n",
       "      <th>starsv1</th>\n",
       "      <th>poscount</th>\n",
       "      <th>negcount</th>\n",
       "    </tr>\n",
       "  </thead>\n",
       "  <tbody>\n",
       "    <tr>\n",
       "      <th>28</th>\n",
       "      <td>[meal, excellent, fresh, many, delicious, cant...</td>\n",
       "      <td>1</td>\n",
       "      <td>-0.233075</td>\n",
       "      <td>-0.422821</td>\n",
       "    </tr>\n",
       "    <tr>\n",
       "      <th>32</th>\n",
       "      <td>[great, nice, clean, huge]</td>\n",
       "      <td>1</td>\n",
       "      <td>0.000456</td>\n",
       "      <td>-0.396592</td>\n",
       "    </tr>\n",
       "    <tr>\n",
       "      <th>62</th>\n",
       "      <td>[disagree, previous, single, coop, great, smal...</td>\n",
       "      <td>1</td>\n",
       "      <td>0.189900</td>\n",
       "      <td>0.074199</td>\n",
       "    </tr>\n",
       "    <tr>\n",
       "      <th>72</th>\n",
       "      <td>[stl, remorseful, first, st, louis, tour, many...</td>\n",
       "      <td>1</td>\n",
       "      <td>2.924055</td>\n",
       "      <td>2.619284</td>\n",
       "    </tr>\n",
       "    <tr>\n",
       "      <th>79</th>\n",
       "      <td>[disappointed, sandwich, enough, cheese, prepa...</td>\n",
       "      <td>0</td>\n",
       "      <td>-0.866467</td>\n",
       "      <td>-0.671752</td>\n",
       "    </tr>\n",
       "  </tbody>\n",
       "</table>\n",
       "</div>"
      ],
      "text/plain": [
       "                                           adjectives  starsv1  poscount  \\\n",
       "28  [meal, excellent, fresh, many, delicious, cant...        1 -0.233075   \n",
       "32                         [great, nice, clean, huge]        1  0.000456   \n",
       "62  [disagree, previous, single, coop, great, smal...        1  0.189900   \n",
       "72  [stl, remorseful, first, st, louis, tour, many...        1  2.924055   \n",
       "79  [disappointed, sandwich, enough, cheese, prepa...        0 -0.866467   \n",
       "\n",
       "    negcount  \n",
       "28 -0.422821  \n",
       "32 -0.396592  \n",
       "62  0.074199  \n",
       "72  2.619284  \n",
       "79 -0.671752  "
      ]
     },
     "execution_count": 78,
     "metadata": {},
     "output_type": "execute_result"
    }
   ],
   "source": [
    "yelp_adj.head()"
   ]
  },
  {
   "cell_type": "code",
   "execution_count": 79,
   "metadata": {},
   "outputs": [],
   "source": [
    "X_adj = yelp_adj.loc[:,['poscount', 'negcount']].to_numpy()\n",
    "y_adj = yelp_adj.loc[:,'starsv1'].to_numpy()"
   ]
  },
  {
   "cell_type": "code",
   "execution_count": 97,
   "metadata": {},
   "outputs": [],
   "source": [
    "clf_adj = LogisticRegression()\n",
    "X_train_adj, X_test_adj, y_train_adj, y_test_adj = train_test_split(X_adj, y_adj, test_size=0.2, random_state=42)\n",
    "clf_adj.fit(X_train_adj, y_train_adj)\n",
    "y_pred_adj = clf_adj.predict(X_test_adj)"
   ]
  },
  {
   "cell_type": "code",
   "execution_count": 98,
   "metadata": {},
   "outputs": [
    {
     "data": {
      "text/plain": [
       "0.6666993178862268"
      ]
     },
     "execution_count": 98,
     "metadata": {},
     "output_type": "execute_result"
    }
   ],
   "source": [
    "accuracy_adj = accuracy_score(y_test_adj, y_pred_adj)\n",
    "precision_adj = precision_score(y_test_adj, y_pred_adj, average='weighted')\n",
    "f1_adj = f1_score(y_test_adj, y_pred_adj, average='weighted')\n",
    "recall_adj = recall_score(y_test_adj, y_pred_adj, average='weighted')\n",
    "sklearn.metrics.roc_auc_score(y_test_adj, y_pred_adj)"
   ]
  },
  {
   "cell_type": "code",
   "execution_count": 100,
   "metadata": {},
   "outputs": [
    {
     "ename": "KeyError",
     "evalue": "'Axes3D:kwdoc'",
     "output_type": "error",
     "traceback": [
      "\u001b[1;31m---------------------------------------------------------------------------\u001b[0m",
      "\u001b[1;31mValueError\u001b[0m                                Traceback (most recent call last)",
      "File \u001b[1;32mc:\\Users\\soumy\\AppData\\Local\\Programs\\Python\\Python311\\Lib\\site-packages\\matplotlib\\_docstring.py:57\u001b[0m, in \u001b[0;36m_ArtistKwdocLoader.__missing__\u001b[1;34m(self, key)\u001b[0m\n\u001b[0;32m     56\u001b[0m \u001b[39mtry\u001b[39;00m:\n\u001b[1;32m---> 57\u001b[0m     \u001b[39mcls\u001b[39m, \u001b[39m=\u001b[39m [\u001b[39mcls\u001b[39m \u001b[39mfor\u001b[39;00m \u001b[39mcls\u001b[39m \u001b[39min\u001b[39;00m _api\u001b[39m.\u001b[39mrecursive_subclasses(Artist)\n\u001b[0;32m     58\u001b[0m             \u001b[39mif\u001b[39;00m \u001b[39mcls\u001b[39m\u001b[39m.\u001b[39m\u001b[39m__name__\u001b[39m \u001b[39m==\u001b[39m name]\n\u001b[0;32m     59\u001b[0m \u001b[39mexcept\u001b[39;00m \u001b[39mValueError\u001b[39;00m \u001b[39mas\u001b[39;00m e:\n",
      "\u001b[1;31mValueError\u001b[0m: too many values to unpack (expected 1)",
      "\nThe above exception was the direct cause of the following exception:\n",
      "\u001b[1;31mKeyError\u001b[0m                                  Traceback (most recent call last)",
      "Cell \u001b[1;32mIn[100], line 1\u001b[0m\n\u001b[1;32m----> 1\u001b[0m \u001b[39mimport\u001b[39;00m \u001b[39mmatplotlib\u001b[39;00m\u001b[39m.\u001b[39;00m\u001b[39mpyplot\u001b[39;00m \u001b[39mas\u001b[39;00m \u001b[39mplt\u001b[39;00m\n\u001b[0;32m      2\u001b[0m fpr, tpr, thresholds \u001b[39m=\u001b[39m metrics\u001b[39m.\u001b[39mroc_curve(y_test_adj, y_pred_adj)\n\u001b[0;32m      3\u001b[0m roc_auc \u001b[39m=\u001b[39m metrics\u001b[39m.\u001b[39mauc(fpr, tpr)\n",
      "File \u001b[1;32mc:\\Users\\soumy\\AppData\\Local\\Programs\\Python\\Python311\\Lib\\site-packages\\matplotlib\\pyplot.py:61\u001b[0m\n\u001b[0;32m     58\u001b[0m \u001b[39mfrom\u001b[39;00m \u001b[39mmatplotlib\u001b[39;00m \u001b[39mimport\u001b[39;00m _docstring\n\u001b[0;32m     59\u001b[0m \u001b[39mfrom\u001b[39;00m \u001b[39mmatplotlib\u001b[39;00m\u001b[39m.\u001b[39;00m\u001b[39mbackend_bases\u001b[39;00m \u001b[39mimport\u001b[39;00m (\n\u001b[0;32m     60\u001b[0m     FigureCanvasBase, FigureManagerBase, MouseButton)\n\u001b[1;32m---> 61\u001b[0m \u001b[39mfrom\u001b[39;00m \u001b[39mmatplotlib\u001b[39;00m\u001b[39m.\u001b[39;00m\u001b[39mfigure\u001b[39;00m \u001b[39mimport\u001b[39;00m Figure, FigureBase, figaspect\n\u001b[0;32m     62\u001b[0m \u001b[39mfrom\u001b[39;00m \u001b[39mmatplotlib\u001b[39;00m\u001b[39m.\u001b[39;00m\u001b[39mgridspec\u001b[39;00m \u001b[39mimport\u001b[39;00m GridSpec, SubplotSpec\n\u001b[0;32m     63\u001b[0m \u001b[39mfrom\u001b[39;00m \u001b[39mmatplotlib\u001b[39;00m \u001b[39mimport\u001b[39;00m rcParams, rcParamsDefault, get_backend, rcParamsOrig\n",
      "File \u001b[1;32mc:\\Users\\soumy\\AppData\\Local\\Programs\\Python\\Python311\\Lib\\site-packages\\matplotlib\\figure.py:43\u001b[0m\n\u001b[0;32m     40\u001b[0m \u001b[39mimport\u001b[39;00m \u001b[39mnumpy\u001b[39;00m \u001b[39mas\u001b[39;00m \u001b[39mnp\u001b[39;00m\n\u001b[0;32m     42\u001b[0m \u001b[39mimport\u001b[39;00m \u001b[39mmatplotlib\u001b[39;00m \u001b[39mas\u001b[39;00m \u001b[39mmpl\u001b[39;00m\n\u001b[1;32m---> 43\u001b[0m \u001b[39mfrom\u001b[39;00m \u001b[39mmatplotlib\u001b[39;00m \u001b[39mimport\u001b[39;00m _blocking_input, backend_bases, _docstring, projections\n\u001b[0;32m     44\u001b[0m \u001b[39mfrom\u001b[39;00m \u001b[39mmatplotlib\u001b[39;00m\u001b[39m.\u001b[39;00m\u001b[39martist\u001b[39;00m \u001b[39mimport\u001b[39;00m (\n\u001b[0;32m     45\u001b[0m     Artist, allow_rasterization, _finalize_rasterization)\n\u001b[0;32m     46\u001b[0m \u001b[39mfrom\u001b[39;00m \u001b[39mmatplotlib\u001b[39;00m\u001b[39m.\u001b[39;00m\u001b[39mbackend_bases\u001b[39;00m \u001b[39mimport\u001b[39;00m (\n\u001b[0;32m     47\u001b[0m     DrawEvent, FigureCanvasBase, NonGuiException, MouseButton, _get_renderer)\n",
      "File \u001b[1;32mc:\\Users\\soumy\\AppData\\Local\\Programs\\Python\\Python311\\Lib\\site-packages\\matplotlib\\projections\\__init__.py:58\u001b[0m\n\u001b[0;32m     56\u001b[0m \u001b[39mfrom\u001b[39;00m \u001b[39m.\u001b[39;00m\u001b[39mgeo\u001b[39;00m \u001b[39mimport\u001b[39;00m AitoffAxes, HammerAxes, LambertAxes, MollweideAxes\n\u001b[0;32m     57\u001b[0m \u001b[39mfrom\u001b[39;00m \u001b[39m.\u001b[39;00m\u001b[39mpolar\u001b[39;00m \u001b[39mimport\u001b[39;00m PolarAxes\n\u001b[1;32m---> 58\u001b[0m \u001b[39mfrom\u001b[39;00m \u001b[39mmpl_toolkits\u001b[39;00m\u001b[39m.\u001b[39;00m\u001b[39mmplot3d\u001b[39;00m \u001b[39mimport\u001b[39;00m Axes3D\n\u001b[0;32m     61\u001b[0m \u001b[39mclass\u001b[39;00m \u001b[39mProjectionRegistry\u001b[39;00m:\n\u001b[0;32m     62\u001b[0m \u001b[39m    \u001b[39m\u001b[39m\"\"\"A mapping of registered projection names to projection classes.\"\"\"\u001b[39;00m\n",
      "File \u001b[1;32mc:\\Users\\soumy\\AppData\\Local\\Programs\\Python\\Python311\\Lib\\site-packages\\mpl_toolkits\\mplot3d\\__init__.py:1\u001b[0m\n\u001b[1;32m----> 1\u001b[0m \u001b[39mfrom\u001b[39;00m \u001b[39m.\u001b[39;00m\u001b[39maxes3d\u001b[39;00m \u001b[39mimport\u001b[39;00m Axes3D\n\u001b[0;32m      3\u001b[0m __all__ \u001b[39m=\u001b[39m [\u001b[39m'\u001b[39m\u001b[39mAxes3D\u001b[39m\u001b[39m'\u001b[39m]\n",
      "File \u001b[1;32mc:\\Users\\soumy\\AppData\\Local\\Programs\\Python\\Python311\\Lib\\site-packages\\mpl_toolkits\\mplot3d\\axes3d.py:42\u001b[0m\n\u001b[0;32m     38\u001b[0m \u001b[39mfrom\u001b[39;00m \u001b[39m.\u001b[39;00m \u001b[39mimport\u001b[39;00m proj3d\n\u001b[0;32m     39\u001b[0m \u001b[39mfrom\u001b[39;00m \u001b[39m.\u001b[39;00m \u001b[39mimport\u001b[39;00m axis3d\n\u001b[1;32m---> 42\u001b[0m \u001b[39m@_docstring\u001b[39;49m\u001b[39m.\u001b[39;49minterpd\n\u001b[0;32m     43\u001b[0m \u001b[39m@_api\u001b[39;49m\u001b[39m.\u001b[39;49mdefine_aliases({\n\u001b[0;32m     44\u001b[0m     \u001b[39m\"\u001b[39;49m\u001b[39mxlim\u001b[39;49m\u001b[39m\"\u001b[39;49m: [\u001b[39m\"\u001b[39;49m\u001b[39mxlim3d\u001b[39;49m\u001b[39m\"\u001b[39;49m], \u001b[39m\"\u001b[39;49m\u001b[39mylim\u001b[39;49m\u001b[39m\"\u001b[39;49m: [\u001b[39m\"\u001b[39;49m\u001b[39mylim3d\u001b[39;49m\u001b[39m\"\u001b[39;49m], \u001b[39m\"\u001b[39;49m\u001b[39mzlim\u001b[39;49m\u001b[39m\"\u001b[39;49m: [\u001b[39m\"\u001b[39;49m\u001b[39mzlim3d\u001b[39;49m\u001b[39m\"\u001b[39;49m]})\n\u001b[0;32m     45\u001b[0m \u001b[39mclass\u001b[39;49;00m \u001b[39mAxes3D\u001b[39;49;00m(Axes):\n\u001b[0;32m     46\u001b[0m \u001b[39m    \u001b[39;49m\u001b[39m\"\"\"\u001b[39;49;00m\n\u001b[0;32m     47\u001b[0m \u001b[39m    3D Axes object.\u001b[39;49;00m\n\u001b[0;32m     48\u001b[0m \n\u001b[1;32m   (...)\u001b[0m\n\u001b[0;32m     53\u001b[0m \u001b[39m        `~.pyplot.subplots`, `~.pyplot.subplot_mosaic` or `.Figure.add_axes`.\u001b[39;49;00m\n\u001b[0;32m     54\u001b[0m \u001b[39m    \"\"\"\u001b[39;49;00m\n\u001b[0;32m     55\u001b[0m     name \u001b[39m=\u001b[39;49m \u001b[39m'\u001b[39;49m\u001b[39m3d\u001b[39;49m\u001b[39m'\u001b[39;49m\n",
      "File \u001b[1;32mc:\\Users\\soumy\\AppData\\Local\\Programs\\Python\\Python311\\Lib\\site-packages\\matplotlib\\_docstring.py:82\u001b[0m, in \u001b[0;36m_ArtistPropertiesSubstitution.__call__\u001b[1;34m(self, obj)\u001b[0m\n\u001b[0;32m     80\u001b[0m \u001b[39msuper\u001b[39m()\u001b[39m.\u001b[39m\u001b[39m__call__\u001b[39m(obj)\n\u001b[0;32m     81\u001b[0m \u001b[39mif\u001b[39;00m \u001b[39misinstance\u001b[39m(obj, \u001b[39mtype\u001b[39m) \u001b[39mand\u001b[39;00m obj\u001b[39m.\u001b[39m\u001b[39m__init__\u001b[39m \u001b[39m!=\u001b[39m \u001b[39mobject\u001b[39m\u001b[39m.\u001b[39m\u001b[39m__init__\u001b[39m:\n\u001b[1;32m---> 82\u001b[0m     \u001b[39mself\u001b[39;49m(obj\u001b[39m.\u001b[39;49m\u001b[39m__init__\u001b[39;49m)\n\u001b[0;32m     83\u001b[0m \u001b[39mreturn\u001b[39;00m obj\n",
      "File \u001b[1;32mc:\\Users\\soumy\\AppData\\Local\\Programs\\Python\\Python311\\Lib\\site-packages\\matplotlib\\_docstring.py:80\u001b[0m, in \u001b[0;36m_ArtistPropertiesSubstitution.__call__\u001b[1;34m(self, obj)\u001b[0m\n\u001b[0;32m     79\u001b[0m \u001b[39mdef\u001b[39;00m \u001b[39m__call__\u001b[39m(\u001b[39mself\u001b[39m, obj):\n\u001b[1;32m---> 80\u001b[0m     \u001b[39msuper\u001b[39;49m()\u001b[39m.\u001b[39;49m\u001b[39m__call__\u001b[39;49m(obj)\n\u001b[0;32m     81\u001b[0m     \u001b[39mif\u001b[39;00m \u001b[39misinstance\u001b[39m(obj, \u001b[39mtype\u001b[39m) \u001b[39mand\u001b[39;00m obj\u001b[39m.\u001b[39m\u001b[39m__init__\u001b[39m \u001b[39m!=\u001b[39m \u001b[39mobject\u001b[39m\u001b[39m.\u001b[39m\u001b[39m__init__\u001b[39m:\n\u001b[0;32m     82\u001b[0m         \u001b[39mself\u001b[39m(obj\u001b[39m.\u001b[39m\u001b[39m__init__\u001b[39m)\n",
      "File \u001b[1;32mc:\\Users\\soumy\\AppData\\Local\\Programs\\Python\\Python311\\Lib\\site-packages\\matplotlib\\_docstring.py:40\u001b[0m, in \u001b[0;36mSubstitution.__call__\u001b[1;34m(self, func)\u001b[0m\n\u001b[0;32m     38\u001b[0m \u001b[39mdef\u001b[39;00m \u001b[39m__call__\u001b[39m(\u001b[39mself\u001b[39m, func):\n\u001b[0;32m     39\u001b[0m     \u001b[39mif\u001b[39;00m func\u001b[39m.\u001b[39m\u001b[39m__doc__\u001b[39m:\n\u001b[1;32m---> 40\u001b[0m         func\u001b[39m.\u001b[39m\u001b[39m__doc__\u001b[39m \u001b[39m=\u001b[39m inspect\u001b[39m.\u001b[39;49mcleandoc(func\u001b[39m.\u001b[39;49m\u001b[39m__doc__\u001b[39;49m) \u001b[39m%\u001b[39;49m \u001b[39mself\u001b[39;49m\u001b[39m.\u001b[39;49mparams\n\u001b[0;32m     41\u001b[0m     \u001b[39mreturn\u001b[39;00m func\n",
      "File \u001b[1;32mc:\\Users\\soumy\\AppData\\Local\\Programs\\Python\\Python311\\Lib\\site-packages\\matplotlib\\_docstring.py:60\u001b[0m, in \u001b[0;36m_ArtistKwdocLoader.__missing__\u001b[1;34m(self, key)\u001b[0m\n\u001b[0;32m     57\u001b[0m     \u001b[39mcls\u001b[39m, \u001b[39m=\u001b[39m [\u001b[39mcls\u001b[39m \u001b[39mfor\u001b[39;00m \u001b[39mcls\u001b[39m \u001b[39min\u001b[39;00m _api\u001b[39m.\u001b[39mrecursive_subclasses(Artist)\n\u001b[0;32m     58\u001b[0m             \u001b[39mif\u001b[39;00m \u001b[39mcls\u001b[39m\u001b[39m.\u001b[39m\u001b[39m__name__\u001b[39m \u001b[39m==\u001b[39m name]\n\u001b[0;32m     59\u001b[0m \u001b[39mexcept\u001b[39;00m \u001b[39mValueError\u001b[39;00m \u001b[39mas\u001b[39;00m e:\n\u001b[1;32m---> 60\u001b[0m     \u001b[39mraise\u001b[39;00m \u001b[39mKeyError\u001b[39;00m(key) \u001b[39mfrom\u001b[39;00m \u001b[39me\u001b[39;00m\n\u001b[0;32m     61\u001b[0m \u001b[39mreturn\u001b[39;00m \u001b[39mself\u001b[39m\u001b[39m.\u001b[39msetdefault(key, kwdoc(\u001b[39mcls\u001b[39m))\n",
      "\u001b[1;31mKeyError\u001b[0m: 'Axes3D:kwdoc'"
     ]
    }
   ],
   "source": [
    "import matplotlib.pyplot as plt\n",
    "fpr, tpr, thresholds = metrics.roc_curve(y_test_adj, y_pred_adj)\n",
    "roc_auc = metrics.auc(fpr, tpr)\n",
    "display = metrics.RocCurveDisplay(fpr=fpr, tpr=tpr, roc_auc=roc_auc,\n",
    "                                  estimator_name='Adjective model')\n",
    "display.plot()\n",
    "plt.show()"
   ]
  },
  {
   "cell_type": "code",
   "execution_count": 99,
   "metadata": {},
   "outputs": [
    {
     "name": "stdout",
     "output_type": "stream",
     "text": [
      "Accuracy: 0.7542666266111612\n",
      "Precision: 0.7494781799390328\n",
      "Recall: 0.7542666266111612\n",
      "F1 Score: 0.7318075983028425\n"
     ]
    }
   ],
   "source": [
    "print(f\"Accuracy: {accuracy_adj}\")\n",
    "print(f\"Precision: {precision_adj}\")\n",
    "print(f\"Recall: {recall_adj}\")\n",
    "print(f\"F1 Score: {f1_adj}\")"
   ]
  },
  {
   "cell_type": "code",
   "execution_count": 74,
   "metadata": {},
   "outputs": [],
   "source": [
    "yelp_adj.loc[:,['adjectives', 'starsv1']].to_csv('yelp_adj.csv')"
   ]
  },
  {
   "attachments": {},
   "cell_type": "markdown",
   "metadata": {},
   "source": [
    "**Using TF-IDF weights with logistic regression**\n"
   ]
  },
  {
   "cell_type": "code",
   "execution_count": 101,
   "metadata": {},
   "outputs": [
    {
     "data": {
      "text/html": [
       "<div>\n",
       "<style scoped>\n",
       "    .dataframe tbody tr th:only-of-type {\n",
       "        vertical-align: middle;\n",
       "    }\n",
       "\n",
       "    .dataframe tbody tr th {\n",
       "        vertical-align: top;\n",
       "    }\n",
       "\n",
       "    .dataframe thead th {\n",
       "        text-align: right;\n",
       "    }\n",
       "</style>\n",
       "<table border=\"1\" class=\"dataframe\">\n",
       "  <thead>\n",
       "    <tr style=\"text-align: right;\">\n",
       "      <th></th>\n",
       "      <th>text</th>\n",
       "      <th>stars</th>\n",
       "      <th>useful</th>\n",
       "      <th>funny</th>\n",
       "      <th>cool</th>\n",
       "      <th>starsv1</th>\n",
       "      <th>starsv2</th>\n",
       "      <th>posv1</th>\n",
       "      <th>negv1</th>\n",
       "      <th>posv2</th>\n",
       "      <th>neutv2</th>\n",
       "      <th>negv2</th>\n",
       "      <th>adjectives</th>\n",
       "    </tr>\n",
       "  </thead>\n",
       "  <tbody>\n",
       "    <tr>\n",
       "      <th>28</th>\n",
       "      <td>[recently, dinner, wife, weekend, could, pleas...</td>\n",
       "      <td>5</td>\n",
       "      <td>1</td>\n",
       "      <td>0</td>\n",
       "      <td>0</td>\n",
       "      <td>1</td>\n",
       "      <td>2</td>\n",
       "      <td>-0.345351</td>\n",
       "      <td>-0.438980</td>\n",
       "      <td>-0.345351</td>\n",
       "      <td>-0.404141</td>\n",
       "      <td>-0.449275</td>\n",
       "      <td>[meal, excellent, fresh, many, delicious, cant...</td>\n",
       "    </tr>\n",
       "    <tr>\n",
       "      <th>32</th>\n",
       "      <td>[great, staff, always, help, always, nice, alw...</td>\n",
       "      <td>5</td>\n",
       "      <td>1</td>\n",
       "      <td>0</td>\n",
       "      <td>1</td>\n",
       "      <td>1</td>\n",
       "      <td>2</td>\n",
       "      <td>-0.444896</td>\n",
       "      <td>-0.725067</td>\n",
       "      <td>-0.444896</td>\n",
       "      <td>-0.689614</td>\n",
       "      <td>-0.732774</td>\n",
       "      <td>[great, nice, clean, huge]</td>\n",
       "    </tr>\n",
       "    <tr>\n",
       "      <th>62</th>\n",
       "      <td>[love, weaver, way, really, disagree, content,...</td>\n",
       "      <td>5</td>\n",
       "      <td>7</td>\n",
       "      <td>0</td>\n",
       "      <td>3</td>\n",
       "      <td>1</td>\n",
       "      <td>2</td>\n",
       "      <td>1.785497</td>\n",
       "      <td>1.484193</td>\n",
       "      <td>1.785497</td>\n",
       "      <td>1.529289</td>\n",
       "      <td>1.450450</td>\n",
       "      <td>[disagree, previous, single, coop, great, smal...</td>\n",
       "    </tr>\n",
       "    <tr>\n",
       "      <th>72</th>\n",
       "      <td>[living, stl, area, way, 10, year, ashamed, re...</td>\n",
       "      <td>5</td>\n",
       "      <td>0</td>\n",
       "      <td>0</td>\n",
       "      <td>0</td>\n",
       "      <td>1</td>\n",
       "      <td>2</td>\n",
       "      <td>2.910960</td>\n",
       "      <td>2.098070</td>\n",
       "      <td>2.910960</td>\n",
       "      <td>2.604430</td>\n",
       "      <td>1.864096</td>\n",
       "      <td>[stl, remorseful, first, st, louis, tour, many...</td>\n",
       "    </tr>\n",
       "    <tr>\n",
       "      <th>79</th>\n",
       "      <td>[visited, disappointed, veggie, pizza, husband...</td>\n",
       "      <td>1</td>\n",
       "      <td>0</td>\n",
       "      <td>0</td>\n",
       "      <td>0</td>\n",
       "      <td>0</td>\n",
       "      <td>0</td>\n",
       "      <td>-0.739448</td>\n",
       "      <td>-0.628690</td>\n",
       "      <td>-0.739448</td>\n",
       "      <td>-0.622774</td>\n",
       "      <td>-0.624925</td>\n",
       "      <td>[disappointed, sandwich, enough, cheese, prepa...</td>\n",
       "    </tr>\n",
       "  </tbody>\n",
       "</table>\n",
       "</div>"
      ],
      "text/plain": [
       "                                                 text  stars  useful  funny  \\\n",
       "28  [recently, dinner, wife, weekend, could, pleas...      5       1      0   \n",
       "32  [great, staff, always, help, always, nice, alw...      5       1      0   \n",
       "62  [love, weaver, way, really, disagree, content,...      5       7      0   \n",
       "72  [living, stl, area, way, 10, year, ashamed, re...      5       0      0   \n",
       "79  [visited, disappointed, veggie, pizza, husband...      1       0      0   \n",
       "\n",
       "    cool  starsv1  starsv2     posv1     negv1     posv2    neutv2     negv2  \\\n",
       "28     0        1        2 -0.345351 -0.438980 -0.345351 -0.404141 -0.449275   \n",
       "32     1        1        2 -0.444896 -0.725067 -0.444896 -0.689614 -0.732774   \n",
       "62     3        1        2  1.785497  1.484193  1.785497  1.529289  1.450450   \n",
       "72     0        1        2  2.910960  2.098070  2.910960  2.604430  1.864096   \n",
       "79     0        0        0 -0.739448 -0.628690 -0.739448 -0.622774 -0.624925   \n",
       "\n",
       "                                           adjectives  \n",
       "28  [meal, excellent, fresh, many, delicious, cant...  \n",
       "32                         [great, nice, clean, huge]  \n",
       "62  [disagree, previous, single, coop, great, smal...  \n",
       "72  [stl, remorseful, first, st, louis, tour, many...  \n",
       "79  [disappointed, sandwich, enough, cheese, prepa...  "
      ]
     },
     "execution_count": 101,
     "metadata": {},
     "output_type": "execute_result"
    }
   ],
   "source": [
    "yelp_reviews.head()"
   ]
  },
  {
   "cell_type": "code",
   "execution_count": 135,
   "metadata": {},
   "outputs": [],
   "source": [
    "from sklearn.feature_extraction.text import TfidfVectorizer\n",
    "vectorizer = TfidfVectorizer()\n",
    "import math"
   ]
  },
  {
   "cell_type": "code",
   "execution_count": 142,
   "metadata": {},
   "outputs": [],
   "source": [
    "\n",
    "\n",
    "\n",
    "\n",
    "\n"
   ]
  },
  {
   "cell_type": "code",
   "execution_count": 148,
   "metadata": {},
   "outputs": [
    {
     "ename": "KeyboardInterrupt",
     "evalue": "",
     "output_type": "error",
     "traceback": [
      "\u001b[1;31m---------------------------------------------------------------------------\u001b[0m",
      "\u001b[1;31mKeyboardInterrupt\u001b[0m                         Traceback (most recent call last)",
      "Cell \u001b[1;32mIn[148], line 1\u001b[0m\n\u001b[1;32m----> 1\u001b[0m yelp_reviews[\u001b[39m'\u001b[39m\u001b[39mtfidfpos\u001b[39m\u001b[39m'\u001b[39m] \u001b[39m=\u001b[39m yelp_reviews[\u001b[39m'\u001b[39;49m\u001b[39mtext\u001b[39;49m\u001b[39m'\u001b[39;49m]\u001b[39m.\u001b[39;49mapply(\u001b[39mlambda\u001b[39;49;00m x: calc_idf(yelp_reviews, x, \u001b[39m1\u001b[39;49m))\n",
      "File \u001b[1;32mc:\\Users\\soumy\\AppData\\Local\\Programs\\Python\\Python311\\Lib\\site-packages\\pandas\\core\\series.py:4771\u001b[0m, in \u001b[0;36mSeries.apply\u001b[1;34m(self, func, convert_dtype, args, **kwargs)\u001b[0m\n\u001b[0;32m   4661\u001b[0m \u001b[39mdef\u001b[39;00m \u001b[39mapply\u001b[39m(\n\u001b[0;32m   4662\u001b[0m     \u001b[39mself\u001b[39m,\n\u001b[0;32m   4663\u001b[0m     func: AggFuncType,\n\u001b[1;32m   (...)\u001b[0m\n\u001b[0;32m   4666\u001b[0m     \u001b[39m*\u001b[39m\u001b[39m*\u001b[39mkwargs,\n\u001b[0;32m   4667\u001b[0m ) \u001b[39m-\u001b[39m\u001b[39m>\u001b[39m DataFrame \u001b[39m|\u001b[39m Series:\n\u001b[0;32m   4668\u001b[0m \u001b[39m    \u001b[39m\u001b[39m\"\"\"\u001b[39;00m\n\u001b[0;32m   4669\u001b[0m \u001b[39m    Invoke function on values of Series.\u001b[39;00m\n\u001b[0;32m   4670\u001b[0m \n\u001b[1;32m   (...)\u001b[0m\n\u001b[0;32m   4769\u001b[0m \u001b[39m    dtype: float64\u001b[39;00m\n\u001b[0;32m   4770\u001b[0m \u001b[39m    \"\"\"\u001b[39;00m\n\u001b[1;32m-> 4771\u001b[0m     \u001b[39mreturn\u001b[39;00m SeriesApply(\u001b[39mself\u001b[39;49m, func, convert_dtype, args, kwargs)\u001b[39m.\u001b[39;49mapply()\n",
      "File \u001b[1;32mc:\\Users\\soumy\\AppData\\Local\\Programs\\Python\\Python311\\Lib\\site-packages\\pandas\\core\\apply.py:1123\u001b[0m, in \u001b[0;36mSeriesApply.apply\u001b[1;34m(self)\u001b[0m\n\u001b[0;32m   1120\u001b[0m     \u001b[39mreturn\u001b[39;00m \u001b[39mself\u001b[39m\u001b[39m.\u001b[39mapply_str()\n\u001b[0;32m   1122\u001b[0m \u001b[39m# self.f is Callable\u001b[39;00m\n\u001b[1;32m-> 1123\u001b[0m \u001b[39mreturn\u001b[39;00m \u001b[39mself\u001b[39;49m\u001b[39m.\u001b[39;49mapply_standard()\n",
      "File \u001b[1;32mc:\\Users\\soumy\\AppData\\Local\\Programs\\Python\\Python311\\Lib\\site-packages\\pandas\\core\\apply.py:1174\u001b[0m, in \u001b[0;36mSeriesApply.apply_standard\u001b[1;34m(self)\u001b[0m\n\u001b[0;32m   1172\u001b[0m     \u001b[39melse\u001b[39;00m:\n\u001b[0;32m   1173\u001b[0m         values \u001b[39m=\u001b[39m obj\u001b[39m.\u001b[39mastype(\u001b[39mobject\u001b[39m)\u001b[39m.\u001b[39m_values\n\u001b[1;32m-> 1174\u001b[0m         mapped \u001b[39m=\u001b[39m lib\u001b[39m.\u001b[39;49mmap_infer(\n\u001b[0;32m   1175\u001b[0m             values,\n\u001b[0;32m   1176\u001b[0m             f,\n\u001b[0;32m   1177\u001b[0m             convert\u001b[39m=\u001b[39;49m\u001b[39mself\u001b[39;49m\u001b[39m.\u001b[39;49mconvert_dtype,\n\u001b[0;32m   1178\u001b[0m         )\n\u001b[0;32m   1180\u001b[0m \u001b[39mif\u001b[39;00m \u001b[39mlen\u001b[39m(mapped) \u001b[39mand\u001b[39;00m \u001b[39misinstance\u001b[39m(mapped[\u001b[39m0\u001b[39m], ABCSeries):\n\u001b[0;32m   1181\u001b[0m     \u001b[39m# GH#43986 Need to do list(mapped) in order to get treated as nested\u001b[39;00m\n\u001b[0;32m   1182\u001b[0m     \u001b[39m#  See also GH#25959 regarding EA support\u001b[39;00m\n\u001b[0;32m   1183\u001b[0m     \u001b[39mreturn\u001b[39;00m obj\u001b[39m.\u001b[39m_constructor_expanddim(\u001b[39mlist\u001b[39m(mapped), index\u001b[39m=\u001b[39mobj\u001b[39m.\u001b[39mindex)\n",
      "File \u001b[1;32mc:\\Users\\soumy\\AppData\\Local\\Programs\\Python\\Python311\\Lib\\site-packages\\pandas\\_libs\\lib.pyx:2924\u001b[0m, in \u001b[0;36mpandas._libs.lib.map_infer\u001b[1;34m()\u001b[0m\n",
      "Cell \u001b[1;32mIn[148], line 1\u001b[0m, in \u001b[0;36m<lambda>\u001b[1;34m(x)\u001b[0m\n\u001b[1;32m----> 1\u001b[0m yelp_reviews[\u001b[39m'\u001b[39m\u001b[39mtfidfpos\u001b[39m\u001b[39m'\u001b[39m] \u001b[39m=\u001b[39m yelp_reviews[\u001b[39m'\u001b[39m\u001b[39mtext\u001b[39m\u001b[39m'\u001b[39m]\u001b[39m.\u001b[39mapply(\u001b[39mlambda\u001b[39;00m x: calc_idf(yelp_reviews, x, \u001b[39m1\u001b[39;49m))\n",
      "Cell \u001b[1;32mIn[142], line 8\u001b[0m, in \u001b[0;36mcalc_idf\u001b[1;34m(df, doc, key)\u001b[0m\n\u001b[0;32m      6\u001b[0m \u001b[39mif\u001b[39;00m word \u001b[39mnot\u001b[39;00m \u001b[39min\u001b[39;00m idf_dict:\n\u001b[0;32m      7\u001b[0m     tf \u001b[39m=\u001b[39m doc\u001b[39m.\u001b[39mcount(word)\u001b[39m/\u001b[39m\u001b[39mlen\u001b[39m(doc)\n\u001b[1;32m----> 8\u001b[0m     count \u001b[39m=\u001b[39m df\u001b[39m.\u001b[39;49mloc[df[\u001b[39m'\u001b[39;49m\u001b[39mstarsv1\u001b[39;49m\u001b[39m'\u001b[39;49m] \u001b[39m==\u001b[39;49m key, \u001b[39m'\u001b[39;49m\u001b[39mtext\u001b[39;49m\u001b[39m'\u001b[39;49m]\u001b[39m.\u001b[39;49mapply(\u001b[39mlambda\u001b[39;49;00m x: word \u001b[39min\u001b[39;49;00m x)\u001b[39m.\u001b[39msum()\n\u001b[0;32m      9\u001b[0m     idf \u001b[39m=\u001b[39m math\u001b[39m.\u001b[39mlog(doc_count\u001b[39m/\u001b[39mcount)\n\u001b[0;32m     10\u001b[0m     idf_dict[word] \u001b[39m=\u001b[39m tf\u001b[39m*\u001b[39midf\n",
      "File \u001b[1;32mc:\\Users\\soumy\\AppData\\Local\\Programs\\Python\\Python311\\Lib\\site-packages\\pandas\\core\\series.py:4771\u001b[0m, in \u001b[0;36mSeries.apply\u001b[1;34m(self, func, convert_dtype, args, **kwargs)\u001b[0m\n\u001b[0;32m   4661\u001b[0m \u001b[39mdef\u001b[39;00m \u001b[39mapply\u001b[39m(\n\u001b[0;32m   4662\u001b[0m     \u001b[39mself\u001b[39m,\n\u001b[0;32m   4663\u001b[0m     func: AggFuncType,\n\u001b[1;32m   (...)\u001b[0m\n\u001b[0;32m   4666\u001b[0m     \u001b[39m*\u001b[39m\u001b[39m*\u001b[39mkwargs,\n\u001b[0;32m   4667\u001b[0m ) \u001b[39m-\u001b[39m\u001b[39m>\u001b[39m DataFrame \u001b[39m|\u001b[39m Series:\n\u001b[0;32m   4668\u001b[0m \u001b[39m    \u001b[39m\u001b[39m\"\"\"\u001b[39;00m\n\u001b[0;32m   4669\u001b[0m \u001b[39m    Invoke function on values of Series.\u001b[39;00m\n\u001b[0;32m   4670\u001b[0m \n\u001b[1;32m   (...)\u001b[0m\n\u001b[0;32m   4769\u001b[0m \u001b[39m    dtype: float64\u001b[39;00m\n\u001b[0;32m   4770\u001b[0m \u001b[39m    \"\"\"\u001b[39;00m\n\u001b[1;32m-> 4771\u001b[0m     \u001b[39mreturn\u001b[39;00m SeriesApply(\u001b[39mself\u001b[39;49m, func, convert_dtype, args, kwargs)\u001b[39m.\u001b[39;49mapply()\n",
      "File \u001b[1;32mc:\\Users\\soumy\\AppData\\Local\\Programs\\Python\\Python311\\Lib\\site-packages\\pandas\\core\\apply.py:1123\u001b[0m, in \u001b[0;36mSeriesApply.apply\u001b[1;34m(self)\u001b[0m\n\u001b[0;32m   1120\u001b[0m     \u001b[39mreturn\u001b[39;00m \u001b[39mself\u001b[39m\u001b[39m.\u001b[39mapply_str()\n\u001b[0;32m   1122\u001b[0m \u001b[39m# self.f is Callable\u001b[39;00m\n\u001b[1;32m-> 1123\u001b[0m \u001b[39mreturn\u001b[39;00m \u001b[39mself\u001b[39;49m\u001b[39m.\u001b[39;49mapply_standard()\n",
      "File \u001b[1;32mc:\\Users\\soumy\\AppData\\Local\\Programs\\Python\\Python311\\Lib\\site-packages\\pandas\\core\\apply.py:1174\u001b[0m, in \u001b[0;36mSeriesApply.apply_standard\u001b[1;34m(self)\u001b[0m\n\u001b[0;32m   1172\u001b[0m     \u001b[39melse\u001b[39;00m:\n\u001b[0;32m   1173\u001b[0m         values \u001b[39m=\u001b[39m obj\u001b[39m.\u001b[39mastype(\u001b[39mobject\u001b[39m)\u001b[39m.\u001b[39m_values\n\u001b[1;32m-> 1174\u001b[0m         mapped \u001b[39m=\u001b[39m lib\u001b[39m.\u001b[39;49mmap_infer(\n\u001b[0;32m   1175\u001b[0m             values,\n\u001b[0;32m   1176\u001b[0m             f,\n\u001b[0;32m   1177\u001b[0m             convert\u001b[39m=\u001b[39;49m\u001b[39mself\u001b[39;49m\u001b[39m.\u001b[39;49mconvert_dtype,\n\u001b[0;32m   1178\u001b[0m         )\n\u001b[0;32m   1180\u001b[0m \u001b[39mif\u001b[39;00m \u001b[39mlen\u001b[39m(mapped) \u001b[39mand\u001b[39;00m \u001b[39misinstance\u001b[39m(mapped[\u001b[39m0\u001b[39m], ABCSeries):\n\u001b[0;32m   1181\u001b[0m     \u001b[39m# GH#43986 Need to do list(mapped) in order to get treated as nested\u001b[39;00m\n\u001b[0;32m   1182\u001b[0m     \u001b[39m#  See also GH#25959 regarding EA support\u001b[39;00m\n\u001b[0;32m   1183\u001b[0m     \u001b[39mreturn\u001b[39;00m obj\u001b[39m.\u001b[39m_constructor_expanddim(\u001b[39mlist\u001b[39m(mapped), index\u001b[39m=\u001b[39mobj\u001b[39m.\u001b[39mindex)\n",
      "File \u001b[1;32mc:\\Users\\soumy\\AppData\\Local\\Programs\\Python\\Python311\\Lib\\site-packages\\pandas\\_libs\\lib.pyx:2924\u001b[0m, in \u001b[0;36mpandas._libs.lib.map_infer\u001b[1;34m()\u001b[0m\n",
      "Cell \u001b[1;32mIn[142], line 8\u001b[0m, in \u001b[0;36mcalc_idf.<locals>.<lambda>\u001b[1;34m(x)\u001b[0m\n\u001b[0;32m      6\u001b[0m \u001b[39mif\u001b[39;00m word \u001b[39mnot\u001b[39;00m \u001b[39min\u001b[39;00m idf_dict:\n\u001b[0;32m      7\u001b[0m     tf \u001b[39m=\u001b[39m doc\u001b[39m.\u001b[39mcount(word)\u001b[39m/\u001b[39m\u001b[39mlen\u001b[39m(doc)\n\u001b[1;32m----> 8\u001b[0m     count \u001b[39m=\u001b[39m df\u001b[39m.\u001b[39mloc[df[\u001b[39m'\u001b[39m\u001b[39mstarsv1\u001b[39m\u001b[39m'\u001b[39m] \u001b[39m==\u001b[39m key, \u001b[39m'\u001b[39m\u001b[39mtext\u001b[39m\u001b[39m'\u001b[39m]\u001b[39m.\u001b[39mapply(\u001b[39mlambda\u001b[39;00m x: word \u001b[39min\u001b[39;00m x)\u001b[39m.\u001b[39msum()\n\u001b[0;32m      9\u001b[0m     idf \u001b[39m=\u001b[39m math\u001b[39m.\u001b[39mlog(doc_count\u001b[39m/\u001b[39mcount)\n\u001b[0;32m     10\u001b[0m     idf_dict[word] \u001b[39m=\u001b[39m tf\u001b[39m*\u001b[39midf\n",
      "\u001b[1;31mKeyboardInterrupt\u001b[0m: "
     ]
    }
   ],
   "source": [
    "yelp_reviews['tfidfpos'] = yelp_reviews['text'].apply(lambda x: calc_idf(yelp_reviews, x, 1))"
   ]
  },
  {
   "cell_type": "code",
   "execution_count": null,
   "metadata": {},
   "outputs": [],
   "source": [
    "yelp_reviews['tfidfneg'] = yelp_reviews['text'].apply(lambda x: calc_idf(yelp_reviews, x, 0))"
   ]
  },
  {
   "cell_type": "code",
   "execution_count": 131,
   "metadata": {},
   "outputs": [],
   "source": [
    "yelp_reviews.loc[:,'tfidf_pos'] = 0\n",
    "vectorizer.fit(yelp_reviews.loc[yelp_reviews.loc[:,'starsv1']==1,'text'].apply(' '.join))\n",
    "tfidf_matrix = vectorizer.transform(yelp_reviews.loc[yelp_reviews.loc[:,'starsv1']==1,'text'].apply(' '.join))\n",
    "tfidf_sum = tfidf_matrix.sum(axis=1)\n",
    "yelp_reviews.loc[yelp_reviews.loc[:,'starsv1']==1,'tfidf_pos'] = tfidf_sum"
   ]
  },
  {
   "cell_type": "code",
   "execution_count": null,
   "metadata": {},
   "outputs": [],
   "source": [
    "yelp_reviews.loc[:,'tfidf_neg'] = 0\n",
    "vectorizer.fit(yelp_reviews.loc[yelp_reviews.loc[:,'starsv1']==0,'text'].apply(' '.join))\n",
    "tfidf_matrix = vectorizer.transform(yelp_reviews.loc[yelp_reviews.loc[:,'starsv1']==0,'text'].apply(' '.join))\n",
    "tfidf_sum = tfidf_matrix.sum(axis=1)\n",
    "yelp_reviews.loc[yelp_reviews.loc[:,'starsv1']==0,'tfidf_neg'] = tfidf_sum"
   ]
  },
  {
   "cell_type": "code",
   "execution_count": 134,
   "metadata": {},
   "outputs": [
    {
     "data": {
      "text/plain": [
       "699028"
      ]
     },
     "execution_count": 134,
     "metadata": {},
     "output_type": "execute_result"
    }
   ],
   "source": [
    "yelp_reviews.shape[0]"
   ]
  },
  {
   "cell_type": "code",
   "execution_count": 157,
   "metadata": {},
   "outputs": [
    {
     "data": {
      "text/html": [
       "<div>\n",
       "<style scoped>\n",
       "    .dataframe tbody tr th:only-of-type {\n",
       "        vertical-align: middle;\n",
       "    }\n",
       "\n",
       "    .dataframe tbody tr th {\n",
       "        vertical-align: top;\n",
       "    }\n",
       "\n",
       "    .dataframe thead th {\n",
       "        text-align: right;\n",
       "    }\n",
       "</style>\n",
       "<table border=\"1\" class=\"dataframe\">\n",
       "  <thead>\n",
       "    <tr style=\"text-align: right;\">\n",
       "      <th></th>\n",
       "      <th>text</th>\n",
       "      <th>stars</th>\n",
       "      <th>starsv1</th>\n",
       "      <th>posv1</th>\n",
       "      <th>negv1</th>\n",
       "      <th>adjectives</th>\n",
       "    </tr>\n",
       "  </thead>\n",
       "  <tbody>\n",
       "    <tr>\n",
       "      <th>28</th>\n",
       "      <td>[recently, dinner, wife, weekend, could, pleas...</td>\n",
       "      <td>5</td>\n",
       "      <td>1</td>\n",
       "      <td>-0.345351</td>\n",
       "      <td>-0.438980</td>\n",
       "      <td>[meal, excellent, fresh, many, delicious, cant...</td>\n",
       "    </tr>\n",
       "    <tr>\n",
       "      <th>32</th>\n",
       "      <td>[great, staff, always, help, always, nice, alw...</td>\n",
       "      <td>5</td>\n",
       "      <td>1</td>\n",
       "      <td>-0.444896</td>\n",
       "      <td>-0.725067</td>\n",
       "      <td>[great, nice, clean, huge]</td>\n",
       "    </tr>\n",
       "    <tr>\n",
       "      <th>62</th>\n",
       "      <td>[love, weaver, way, really, disagree, content,...</td>\n",
       "      <td>5</td>\n",
       "      <td>1</td>\n",
       "      <td>1.785497</td>\n",
       "      <td>1.484193</td>\n",
       "      <td>[disagree, previous, single, coop, great, smal...</td>\n",
       "    </tr>\n",
       "    <tr>\n",
       "      <th>72</th>\n",
       "      <td>[living, stl, area, way, 10, year, ashamed, re...</td>\n",
       "      <td>5</td>\n",
       "      <td>1</td>\n",
       "      <td>2.910960</td>\n",
       "      <td>2.098070</td>\n",
       "      <td>[stl, remorseful, first, st, louis, tour, many...</td>\n",
       "    </tr>\n",
       "    <tr>\n",
       "      <th>79</th>\n",
       "      <td>[visited, disappointed, veggie, pizza, husband...</td>\n",
       "      <td>1</td>\n",
       "      <td>0</td>\n",
       "      <td>-0.739448</td>\n",
       "      <td>-0.628690</td>\n",
       "      <td>[disappointed, sandwich, enough, cheese, prepa...</td>\n",
       "    </tr>\n",
       "  </tbody>\n",
       "</table>\n",
       "</div>"
      ],
      "text/plain": [
       "                                                 text  stars  starsv1  \\\n",
       "28  [recently, dinner, wife, weekend, could, pleas...      5        1   \n",
       "32  [great, staff, always, help, always, nice, alw...      5        1   \n",
       "62  [love, weaver, way, really, disagree, content,...      5        1   \n",
       "72  [living, stl, area, way, 10, year, ashamed, re...      5        1   \n",
       "79  [visited, disappointed, veggie, pizza, husband...      1        0   \n",
       "\n",
       "       posv1     negv1                                         adjectives  \n",
       "28 -0.345351 -0.438980  [meal, excellent, fresh, many, delicious, cant...  \n",
       "32 -0.444896 -0.725067                         [great, nice, clean, huge]  \n",
       "62  1.785497  1.484193  [disagree, previous, single, coop, great, smal...  \n",
       "72  2.910960  2.098070  [stl, remorseful, first, st, louis, tour, many...  \n",
       "79 -0.739448 -0.628690  [disappointed, sandwich, enough, cheese, prepa...  "
      ]
     },
     "execution_count": 157,
     "metadata": {},
     "output_type": "execute_result"
    }
   ],
   "source": [
    "yelp_reviews.head()"
   ]
  },
  {
   "cell_type": "code",
   "execution_count": 164,
   "metadata": {},
   "outputs": [
    {
     "data": {
      "text/html": [
       "<div>\n",
       "<style scoped>\n",
       "    .dataframe tbody tr th:only-of-type {\n",
       "        vertical-align: middle;\n",
       "    }\n",
       "\n",
       "    .dataframe tbody tr th {\n",
       "        vertical-align: top;\n",
       "    }\n",
       "\n",
       "    .dataframe thead th {\n",
       "        text-align: right;\n",
       "    }\n",
       "</style>\n",
       "<table border=\"1\" class=\"dataframe\">\n",
       "  <thead>\n",
       "    <tr style=\"text-align: right;\">\n",
       "      <th></th>\n",
       "      <th>text</th>\n",
       "      <th>stars</th>\n",
       "      <th>starsv1</th>\n",
       "      <th>posv1</th>\n",
       "      <th>negv1</th>\n",
       "      <th>adjectives</th>\n",
       "      <th>tf_calc</th>\n",
       "    </tr>\n",
       "  </thead>\n",
       "  <tbody>\n",
       "    <tr>\n",
       "      <th>28</th>\n",
       "      <td>[recently, dinner, wife, weekend, could, pleas...</td>\n",
       "      <td>5</td>\n",
       "      <td>1</td>\n",
       "      <td>-0.345351</td>\n",
       "      <td>-0.438980</td>\n",
       "      <td>[meal, excellent, fresh, many, delicious, cant...</td>\n",
       "      <td>{'recently': 0.02631578947368421, 'dinner': 0....</td>\n",
       "    </tr>\n",
       "    <tr>\n",
       "      <th>32</th>\n",
       "      <td>[great, staff, always, help, always, nice, alw...</td>\n",
       "      <td>5</td>\n",
       "      <td>1</td>\n",
       "      <td>-0.444896</td>\n",
       "      <td>-0.725067</td>\n",
       "      <td>[great, nice, clean, huge]</td>\n",
       "      <td>{'great': 0.045454545454545456, 'staff': 0.090...</td>\n",
       "    </tr>\n",
       "    <tr>\n",
       "      <th>62</th>\n",
       "      <td>[love, weaver, way, really, disagree, content,...</td>\n",
       "      <td>5</td>\n",
       "      <td>1</td>\n",
       "      <td>1.785497</td>\n",
       "      <td>1.484193</td>\n",
       "      <td>[disagree, previous, single, coop, great, smal...</td>\n",
       "      <td>{'love': 0.007352941176470588, 'weaver': 0.014...</td>\n",
       "    </tr>\n",
       "    <tr>\n",
       "      <th>72</th>\n",
       "      <td>[living, stl, area, way, 10, year, ashamed, re...</td>\n",
       "      <td>5</td>\n",
       "      <td>1</td>\n",
       "      <td>2.910960</td>\n",
       "      <td>2.098070</td>\n",
       "      <td>[stl, remorseful, first, st, louis, tour, many...</td>\n",
       "      <td>{'living': 0.0078125, 'stl': 0.0078125, 'area'...</td>\n",
       "    </tr>\n",
       "    <tr>\n",
       "      <th>79</th>\n",
       "      <td>[visited, disappointed, veggie, pizza, husband...</td>\n",
       "      <td>1</td>\n",
       "      <td>0</td>\n",
       "      <td>-0.739448</td>\n",
       "      <td>-0.628690</td>\n",
       "      <td>[disappointed, sandwich, enough, cheese, prepa...</td>\n",
       "      <td>{'visited': 0.038461538461538464, 'disappointe...</td>\n",
       "    </tr>\n",
       "  </tbody>\n",
       "</table>\n",
       "</div>"
      ],
      "text/plain": [
       "                                                 text  stars  starsv1  \\\n",
       "28  [recently, dinner, wife, weekend, could, pleas...      5        1   \n",
       "32  [great, staff, always, help, always, nice, alw...      5        1   \n",
       "62  [love, weaver, way, really, disagree, content,...      5        1   \n",
       "72  [living, stl, area, way, 10, year, ashamed, re...      5        1   \n",
       "79  [visited, disappointed, veggie, pizza, husband...      1        0   \n",
       "\n",
       "       posv1     negv1                                         adjectives  \\\n",
       "28 -0.345351 -0.438980  [meal, excellent, fresh, many, delicious, cant...   \n",
       "32 -0.444896 -0.725067                         [great, nice, clean, huge]   \n",
       "62  1.785497  1.484193  [disagree, previous, single, coop, great, smal...   \n",
       "72  2.910960  2.098070  [stl, remorseful, first, st, louis, tour, many...   \n",
       "79 -0.739448 -0.628690  [disappointed, sandwich, enough, cheese, prepa...   \n",
       "\n",
       "                                              tf_calc  \n",
       "28  {'recently': 0.02631578947368421, 'dinner': 0....  \n",
       "32  {'great': 0.045454545454545456, 'staff': 0.090...  \n",
       "62  {'love': 0.007352941176470588, 'weaver': 0.014...  \n",
       "72  {'living': 0.0078125, 'stl': 0.0078125, 'area'...  \n",
       "79  {'visited': 0.038461538461538464, 'disappointe...  "
      ]
     },
     "execution_count": 164,
     "metadata": {},
     "output_type": "execute_result"
    }
   ],
   "source": [
    "yelp_subset.head()"
   ]
  },
  {
   "cell_type": "code",
   "execution_count": 161,
   "metadata": {},
   "outputs": [],
   "source": [
    "def calc_tf(doc):\n",
    "    dict_tf = {}\n",
    "    for word in doc:\n",
    "        if word not in dict_tf:\n",
    "            tf = doc.count(word)/len(doc)\n",
    "            dict_tf[word] = tf\n",
    "    return dict_tf"
   ]
  },
  {
   "cell_type": "code",
   "execution_count": 163,
   "metadata": {},
   "outputs": [
    {
     "name": "stderr",
     "output_type": "stream",
     "text": [
      "C:\\Users\\soumy\\AppData\\Local\\Temp\\ipykernel_9568\\4164299357.py:1: SettingWithCopyWarning: \n",
      "A value is trying to be set on a copy of a slice from a DataFrame.\n",
      "Try using .loc[row_indexer,col_indexer] = value instead\n",
      "\n",
      "See the caveats in the documentation: https://pandas.pydata.org/pandas-docs/stable/user_guide/indexing.html#returning-a-view-versus-a-copy\n",
      "  yelp_subset.loc[:,'tf_calc'] = yelp_subset.loc[:,'text'].apply(lambda x: calc_tf(x))\n"
     ]
    }
   ],
   "source": [
    "yelp_subset.loc[:,'tf_calc'] = yelp_subset.loc[:,'text'].apply(lambda x: calc_tf(x))"
   ]
  },
  {
   "cell_type": "code",
   "execution_count": 176,
   "metadata": {},
   "outputs": [
    {
     "data": {
      "text/html": [
       "<style>#sk-container-id-3 {color: black;background-color: white;}#sk-container-id-3 pre{padding: 0;}#sk-container-id-3 div.sk-toggleable {background-color: white;}#sk-container-id-3 label.sk-toggleable__label {cursor: pointer;display: block;width: 100%;margin-bottom: 0;padding: 0.3em;box-sizing: border-box;text-align: center;}#sk-container-id-3 label.sk-toggleable__label-arrow:before {content: \"▸\";float: left;margin-right: 0.25em;color: #696969;}#sk-container-id-3 label.sk-toggleable__label-arrow:hover:before {color: black;}#sk-container-id-3 div.sk-estimator:hover label.sk-toggleable__label-arrow:before {color: black;}#sk-container-id-3 div.sk-toggleable__content {max-height: 0;max-width: 0;overflow: hidden;text-align: left;background-color: #f0f8ff;}#sk-container-id-3 div.sk-toggleable__content pre {margin: 0.2em;color: black;border-radius: 0.25em;background-color: #f0f8ff;}#sk-container-id-3 input.sk-toggleable__control:checked~div.sk-toggleable__content {max-height: 200px;max-width: 100%;overflow: auto;}#sk-container-id-3 input.sk-toggleable__control:checked~label.sk-toggleable__label-arrow:before {content: \"▾\";}#sk-container-id-3 div.sk-estimator input.sk-toggleable__control:checked~label.sk-toggleable__label {background-color: #d4ebff;}#sk-container-id-3 div.sk-label input.sk-toggleable__control:checked~label.sk-toggleable__label {background-color: #d4ebff;}#sk-container-id-3 input.sk-hidden--visually {border: 0;clip: rect(1px 1px 1px 1px);clip: rect(1px, 1px, 1px, 1px);height: 1px;margin: -1px;overflow: hidden;padding: 0;position: absolute;width: 1px;}#sk-container-id-3 div.sk-estimator {font-family: monospace;background-color: #f0f8ff;border: 1px dotted black;border-radius: 0.25em;box-sizing: border-box;margin-bottom: 0.5em;}#sk-container-id-3 div.sk-estimator:hover {background-color: #d4ebff;}#sk-container-id-3 div.sk-parallel-item::after {content: \"\";width: 100%;border-bottom: 1px solid gray;flex-grow: 1;}#sk-container-id-3 div.sk-label:hover label.sk-toggleable__label {background-color: #d4ebff;}#sk-container-id-3 div.sk-serial::before {content: \"\";position: absolute;border-left: 1px solid gray;box-sizing: border-box;top: 0;bottom: 0;left: 50%;z-index: 0;}#sk-container-id-3 div.sk-serial {display: flex;flex-direction: column;align-items: center;background-color: white;padding-right: 0.2em;padding-left: 0.2em;position: relative;}#sk-container-id-3 div.sk-item {position: relative;z-index: 1;}#sk-container-id-3 div.sk-parallel {display: flex;align-items: stretch;justify-content: center;background-color: white;position: relative;}#sk-container-id-3 div.sk-item::before, #sk-container-id-3 div.sk-parallel-item::before {content: \"\";position: absolute;border-left: 1px solid gray;box-sizing: border-box;top: 0;bottom: 0;left: 50%;z-index: -1;}#sk-container-id-3 div.sk-parallel-item {display: flex;flex-direction: column;z-index: 1;position: relative;background-color: white;}#sk-container-id-3 div.sk-parallel-item:first-child::after {align-self: flex-end;width: 50%;}#sk-container-id-3 div.sk-parallel-item:last-child::after {align-self: flex-start;width: 50%;}#sk-container-id-3 div.sk-parallel-item:only-child::after {width: 0;}#sk-container-id-3 div.sk-dashed-wrapped {border: 1px dashed gray;margin: 0 0.4em 0.5em 0.4em;box-sizing: border-box;padding-bottom: 0.4em;background-color: white;}#sk-container-id-3 div.sk-label label {font-family: monospace;font-weight: bold;display: inline-block;line-height: 1.2em;}#sk-container-id-3 div.sk-label-container {text-align: center;}#sk-container-id-3 div.sk-container {/* jupyter's `normalize.less` sets `[hidden] { display: none; }` but bootstrap.min.css set `[hidden] { display: none !important; }` so we also need the `!important` here to be able to override the default hidden behavior on the sphinx rendered scikit-learn.org. See: https://github.com/scikit-learn/scikit-learn/issues/21755 */display: inline-block !important;position: relative;}#sk-container-id-3 div.sk-text-repr-fallback {display: none;}</style><div id=\"sk-container-id-3\" class=\"sk-top-container\"><div class=\"sk-text-repr-fallback\"><pre>CountVectorizer(binary=True)</pre><b>In a Jupyter environment, please rerun this cell to show the HTML representation or trust the notebook. <br />On GitHub, the HTML representation is unable to render, please try loading this page with nbviewer.org.</b></div><div class=\"sk-container\" hidden><div class=\"sk-item\"><div class=\"sk-estimator sk-toggleable\"><input class=\"sk-toggleable__control sk-hidden--visually\" id=\"sk-estimator-id-3\" type=\"checkbox\" checked><label for=\"sk-estimator-id-3\" class=\"sk-toggleable__label sk-toggleable__label-arrow\">CountVectorizer</label><div class=\"sk-toggleable__content\"><pre>CountVectorizer(binary=True)</pre></div></div></div></div></div>"
      ],
      "text/plain": [
       "CountVectorizer(binary=True)"
      ]
     },
     "execution_count": 176,
     "metadata": {},
     "output_type": "execute_result"
    }
   ],
   "source": [
    "from sklearn.feature_extraction.text import CountVectorizer\n",
    "vectorizer = CountVectorizer(binary=True)\n",
    "vectorizer.fit(yelp_reviews.loc[:,'text'].apply(' '.join))"
   ]
  },
  {
   "cell_type": "code",
   "execution_count": 177,
   "metadata": {},
   "outputs": [],
   "source": [
    "word_matrix = vectorizer.transform(yelp_reviews.loc[:,'text'].apply(' '.join))"
   ]
  },
  {
   "cell_type": "code",
   "execution_count": 197,
   "metadata": {},
   "outputs": [],
   "source": [
    "nonzero_0 = word_matrix[yelp_reviews.loc[:,'starsv1']==0].getnnz(axis=0)"
   ]
  },
  {
   "cell_type": "code",
   "execution_count": 199,
   "metadata": {},
   "outputs": [],
   "source": [
    "nonzero_1 = word_matrix[yelp_reviews.loc[:,'starsv1']==1].getnnz(axis=0)"
   ]
  },
  {
   "cell_type": "code",
   "execution_count": 203,
   "metadata": {},
   "outputs": [],
   "source": [
    "features = vectorizer.vocabulary_.keys()"
   ]
  },
  {
   "cell_type": "code",
   "execution_count": 207,
   "metadata": {},
   "outputs": [],
   "source": [
    "idf_df = pd.DataFrame({\n",
    "    'Feature': features,\n",
    "    'count_neg': nonzero_0,\n",
    "    'count_pos': nonzero_1\n",
    "})"
   ]
  },
  {
   "cell_type": "code",
   "execution_count": 208,
   "metadata": {},
   "outputs": [
    {
     "data": {
      "text/html": [
       "<div>\n",
       "<style scoped>\n",
       "    .dataframe tbody tr th:only-of-type {\n",
       "        vertical-align: middle;\n",
       "    }\n",
       "\n",
       "    .dataframe tbody tr th {\n",
       "        vertical-align: top;\n",
       "    }\n",
       "\n",
       "    .dataframe thead th {\n",
       "        text-align: right;\n",
       "    }\n",
       "</style>\n",
       "<table border=\"1\" class=\"dataframe\">\n",
       "  <thead>\n",
       "    <tr style=\"text-align: right;\">\n",
       "      <th></th>\n",
       "      <th>Feature</th>\n",
       "      <th>count_neg</th>\n",
       "      <th>count_pos</th>\n",
       "    </tr>\n",
       "  </thead>\n",
       "  <tbody>\n",
       "    <tr>\n",
       "      <th>0</th>\n",
       "      <td>recently</td>\n",
       "      <td>25</td>\n",
       "      <td>13</td>\n",
       "    </tr>\n",
       "    <tr>\n",
       "      <th>1</th>\n",
       "      <td>dinner</td>\n",
       "      <td>20</td>\n",
       "      <td>6</td>\n",
       "    </tr>\n",
       "    <tr>\n",
       "      <th>2</th>\n",
       "      <td>wife</td>\n",
       "      <td>1</td>\n",
       "      <td>0</td>\n",
       "    </tr>\n",
       "    <tr>\n",
       "      <th>3</th>\n",
       "      <td>weekend</td>\n",
       "      <td>2</td>\n",
       "      <td>0</td>\n",
       "    </tr>\n",
       "    <tr>\n",
       "      <th>4</th>\n",
       "      <td>could</td>\n",
       "      <td>1</td>\n",
       "      <td>0</td>\n",
       "    </tr>\n",
       "  </tbody>\n",
       "</table>\n",
       "</div>"
      ],
      "text/plain": [
       "    Feature  count_neg  count_pos\n",
       "0  recently         25         13\n",
       "1    dinner         20          6\n",
       "2      wife          1          0\n",
       "3   weekend          2          0\n",
       "4     could          1          0"
      ]
     },
     "execution_count": 208,
     "metadata": {},
     "output_type": "execute_result"
    }
   ],
   "source": [
    "idf_df.head()"
   ]
  },
  {
   "cell_type": "code",
   "execution_count": null,
   "metadata": {},
   "outputs": [],
   "source": []
  },
  {
   "cell_type": "code",
   "execution_count": 210,
   "metadata": {},
   "outputs": [],
   "source": [
    "def calc_idf(val):\n",
    "    return math.log(idf_df.shape[0]/(val+1))\n"
   ]
  },
  {
   "cell_type": "code",
   "execution_count": 211,
   "metadata": {},
   "outputs": [],
   "source": [
    "idf_df.loc[:,'pos_idf'] = idf_df.loc[:,'count_pos'].apply(lambda x: calc_idf(x))"
   ]
  },
  {
   "cell_type": "code",
   "execution_count": 215,
   "metadata": {},
   "outputs": [],
   "source": [
    "idf_df.loc[:,'neg_idf'] = idf_df.loc[:,'count_neg'].apply(lambda x: calc_idf(x))"
   ]
  },
  {
   "cell_type": "code",
   "execution_count": 216,
   "metadata": {},
   "outputs": [
    {
     "data": {
      "text/html": [
       "<div>\n",
       "<style scoped>\n",
       "    .dataframe tbody tr th:only-of-type {\n",
       "        vertical-align: middle;\n",
       "    }\n",
       "\n",
       "    .dataframe tbody tr th {\n",
       "        vertical-align: top;\n",
       "    }\n",
       "\n",
       "    .dataframe thead th {\n",
       "        text-align: right;\n",
       "    }\n",
       "</style>\n",
       "<table border=\"1\" class=\"dataframe\">\n",
       "  <thead>\n",
       "    <tr style=\"text-align: right;\">\n",
       "      <th></th>\n",
       "      <th>Feature</th>\n",
       "      <th>count_neg</th>\n",
       "      <th>count_pos</th>\n",
       "      <th>pos_idf</th>\n",
       "      <th>neg_idf</th>\n",
       "    </tr>\n",
       "  </thead>\n",
       "  <tbody>\n",
       "    <tr>\n",
       "      <th>0</th>\n",
       "      <td>recently</td>\n",
       "      <td>25</td>\n",
       "      <td>13</td>\n",
       "      <td>10.100891</td>\n",
       "      <td>9.481852</td>\n",
       "    </tr>\n",
       "    <tr>\n",
       "      <th>1</th>\n",
       "      <td>dinner</td>\n",
       "      <td>20</td>\n",
       "      <td>6</td>\n",
       "      <td>10.794038</td>\n",
       "      <td>9.695426</td>\n",
       "    </tr>\n",
       "    <tr>\n",
       "      <th>2</th>\n",
       "      <td>wife</td>\n",
       "      <td>1</td>\n",
       "      <td>0</td>\n",
       "      <td>12.739949</td>\n",
       "      <td>12.046801</td>\n",
       "    </tr>\n",
       "    <tr>\n",
       "      <th>3</th>\n",
       "      <td>weekend</td>\n",
       "      <td>2</td>\n",
       "      <td>0</td>\n",
       "      <td>12.739949</td>\n",
       "      <td>11.641336</td>\n",
       "    </tr>\n",
       "    <tr>\n",
       "      <th>4</th>\n",
       "      <td>could</td>\n",
       "      <td>1</td>\n",
       "      <td>0</td>\n",
       "      <td>12.739949</td>\n",
       "      <td>12.046801</td>\n",
       "    </tr>\n",
       "  </tbody>\n",
       "</table>\n",
       "</div>"
      ],
      "text/plain": [
       "    Feature  count_neg  count_pos    pos_idf    neg_idf\n",
       "0  recently         25         13  10.100891   9.481852\n",
       "1    dinner         20          6  10.794038   9.695426\n",
       "2      wife          1          0  12.739949  12.046801\n",
       "3   weekend          2          0  12.739949  11.641336\n",
       "4     could          1          0  12.739949  12.046801"
      ]
     },
     "execution_count": 216,
     "metadata": {},
     "output_type": "execute_result"
    }
   ],
   "source": [
    "idf_df.head()"
   ]
  },
  {
   "cell_type": "code",
   "execution_count": 233,
   "metadata": {},
   "outputs": [],
   "source": [
    "idf_dict_pos = dict(zip(idf_df.loc[:,'Feature'], idf_df.loc[:,'pos_idf']))\n",
    "idf_dict_neg = dict(zip(idf_df.loc[:,'Feature'], idf_df.loc[:,'neg_idf']))"
   ]
  },
  {
   "cell_type": "code",
   "execution_count": 229,
   "metadata": {},
   "outputs": [],
   "source": [
    "def calc_tfidf(dict_a, dict_b):\n",
    "    prod = 0\n",
    "    for key, val in dict_a.items():\n",
    "        prod += val*dict_b.get(key,0)\n",
    "    return prod\n"
   ]
  },
  {
   "cell_type": "code",
   "execution_count": null,
   "metadata": {},
   "outputs": [],
   "source": [
    "yelp_reviews.loc[:,'tf'] = yelp_reviews.loc[:,'text'].apply(lambda x: calc_tf(x))"
   ]
  },
  {
   "cell_type": "code",
   "execution_count": 230,
   "metadata": {},
   "outputs": [],
   "source": [
    "yelp_reviews.loc[:, 'tfidfpos'] = yelp_reviews.loc[:,'tf'].apply(lambda x: calc_tfidf(x,idf_dict_pos))"
   ]
  },
  {
   "cell_type": "code",
   "execution_count": 234,
   "metadata": {},
   "outputs": [],
   "source": [
    "yelp_reviews.loc[:, 'tfidfneg'] = yelp_reviews.loc[:,'tf'].apply(lambda x: calc_tfidf(x,idf_dict_neg))"
   ]
  },
  {
   "cell_type": "code",
   "execution_count": 235,
   "metadata": {},
   "outputs": [
    {
     "data": {
      "text/html": [
       "<div>\n",
       "<style scoped>\n",
       "    .dataframe tbody tr th:only-of-type {\n",
       "        vertical-align: middle;\n",
       "    }\n",
       "\n",
       "    .dataframe tbody tr th {\n",
       "        vertical-align: top;\n",
       "    }\n",
       "\n",
       "    .dataframe thead th {\n",
       "        text-align: right;\n",
       "    }\n",
       "</style>\n",
       "<table border=\"1\" class=\"dataframe\">\n",
       "  <thead>\n",
       "    <tr style=\"text-align: right;\">\n",
       "      <th></th>\n",
       "      <th>text</th>\n",
       "      <th>stars</th>\n",
       "      <th>starsv1</th>\n",
       "      <th>posv1</th>\n",
       "      <th>negv1</th>\n",
       "      <th>adjectives</th>\n",
       "      <th>tf</th>\n",
       "      <th>tfidfpos</th>\n",
       "      <th>tfidfneg</th>\n",
       "    </tr>\n",
       "  </thead>\n",
       "  <tbody>\n",
       "    <tr>\n",
       "      <th>28</th>\n",
       "      <td>[recently, dinner, wife, weekend, could, pleas...</td>\n",
       "      <td>5</td>\n",
       "      <td>1</td>\n",
       "      <td>-0.345351</td>\n",
       "      <td>-0.438980</td>\n",
       "      <td>[meal, excellent, fresh, many, delicious, cant...</td>\n",
       "      <td>{'recently': 0.02631578947368421, 'dinner': 0....</td>\n",
       "      <td>12.211797</td>\n",
       "      <td>11.956019</td>\n",
       "    </tr>\n",
       "    <tr>\n",
       "      <th>32</th>\n",
       "      <td>[great, staff, always, help, always, nice, alw...</td>\n",
       "      <td>5</td>\n",
       "      <td>1</td>\n",
       "      <td>-0.444896</td>\n",
       "      <td>-0.725067</td>\n",
       "      <td>[great, nice, clean, huge]</td>\n",
       "      <td>{'great': 0.045454545454545456, 'staff': 0.090...</td>\n",
       "      <td>12.305744</td>\n",
       "      <td>11.810038</td>\n",
       "    </tr>\n",
       "    <tr>\n",
       "      <th>62</th>\n",
       "      <td>[love, weaver, way, really, disagree, content,...</td>\n",
       "      <td>5</td>\n",
       "      <td>1</td>\n",
       "      <td>1.785497</td>\n",
       "      <td>1.484193</td>\n",
       "      <td>[disagree, previous, single, coop, great, smal...</td>\n",
       "      <td>{'love': 0.007352941176470588, 'weaver': 0.014...</td>\n",
       "      <td>12.240731</td>\n",
       "      <td>12.047542</td>\n",
       "    </tr>\n",
       "    <tr>\n",
       "      <th>72</th>\n",
       "      <td>[living, stl, area, way, 10, year, ashamed, re...</td>\n",
       "      <td>5</td>\n",
       "      <td>1</td>\n",
       "      <td>2.910960</td>\n",
       "      <td>2.098070</td>\n",
       "      <td>[stl, remorseful, first, st, louis, tour, many...</td>\n",
       "      <td>{'living': 0.0078125, 'stl': 0.0078125, 'area'...</td>\n",
       "      <td>12.216392</td>\n",
       "      <td>12.103790</td>\n",
       "    </tr>\n",
       "    <tr>\n",
       "      <th>79</th>\n",
       "      <td>[visited, disappointed, veggie, pizza, husband...</td>\n",
       "      <td>1</td>\n",
       "      <td>0</td>\n",
       "      <td>-0.739448</td>\n",
       "      <td>-0.628690</td>\n",
       "      <td>[disappointed, sandwich, enough, cheese, prepa...</td>\n",
       "      <td>{'visited': 0.038461538461538464, 'disappointe...</td>\n",
       "      <td>12.255414</td>\n",
       "      <td>12.006552</td>\n",
       "    </tr>\n",
       "  </tbody>\n",
       "</table>\n",
       "</div>"
      ],
      "text/plain": [
       "                                                 text  stars  starsv1  \\\n",
       "28  [recently, dinner, wife, weekend, could, pleas...      5        1   \n",
       "32  [great, staff, always, help, always, nice, alw...      5        1   \n",
       "62  [love, weaver, way, really, disagree, content,...      5        1   \n",
       "72  [living, stl, area, way, 10, year, ashamed, re...      5        1   \n",
       "79  [visited, disappointed, veggie, pizza, husband...      1        0   \n",
       "\n",
       "       posv1     negv1                                         adjectives  \\\n",
       "28 -0.345351 -0.438980  [meal, excellent, fresh, many, delicious, cant...   \n",
       "32 -0.444896 -0.725067                         [great, nice, clean, huge]   \n",
       "62  1.785497  1.484193  [disagree, previous, single, coop, great, smal...   \n",
       "72  2.910960  2.098070  [stl, remorseful, first, st, louis, tour, many...   \n",
       "79 -0.739448 -0.628690  [disappointed, sandwich, enough, cheese, prepa...   \n",
       "\n",
       "                                                   tf   tfidfpos   tfidfneg  \n",
       "28  {'recently': 0.02631578947368421, 'dinner': 0....  12.211797  11.956019  \n",
       "32  {'great': 0.045454545454545456, 'staff': 0.090...  12.305744  11.810038  \n",
       "62  {'love': 0.007352941176470588, 'weaver': 0.014...  12.240731  12.047542  \n",
       "72  {'living': 0.0078125, 'stl': 0.0078125, 'area'...  12.216392  12.103790  \n",
       "79  {'visited': 0.038461538461538464, 'disappointe...  12.255414  12.006552  "
      ]
     },
     "execution_count": 235,
     "metadata": {},
     "output_type": "execute_result"
    }
   ],
   "source": [
    "yelp_reviews.head()"
   ]
  }
 ],
 "metadata": {
  "kernelspec": {
   "display_name": "Python 3",
   "language": "python",
   "name": "python3"
  },
  "language_info": {
   "codemirror_mode": {
    "name": "ipython",
    "version": 3
   },
   "file_extension": ".py",
   "mimetype": "text/x-python",
   "name": "python",
   "nbconvert_exporter": "python",
   "pygments_lexer": "ipython3",
   "version": "3.11.2"
  },
  "orig_nbformat": 4
 },
 "nbformat": 4,
 "nbformat_minor": 2
}
