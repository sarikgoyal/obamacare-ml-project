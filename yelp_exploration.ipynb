{
 "cells": [
  {
   "cell_type": "code",
   "execution_count": 30,
   "metadata": {},
   "outputs": [],
   "source": [
    "import pandas as pd\n",
    "import numpy as np\n",
    "import sklearn\n",
    "import random\n",
    "import nltk\n",
    "import string\n",
    "import re\n",
    "from nltk.stem import WordNetLemmatizer\n",
    "from nltk.tokenize import word_tokenize"
   ]
  },
  {
   "cell_type": "code",
   "execution_count": 3,
   "metadata": {},
   "outputs": [],
   "source": [
    "#I don't think you guys would need to run this at all\n",
    "import os\n",
    "os.getcwd()\n",
    "os.chdir('d:\\\\Harris Course work\\\\MLPP\\\\ml_proj\\\\obamacare-ml-project')"
   ]
  },
  {
   "cell_type": "code",
   "execution_count": 16,
   "metadata": {},
   "outputs": [],
   "source": [
    "#ChatGPT support\n",
    "# set the file path and chunk size\n",
    "file_path = 'data/yelp_academic_dataset_review.json'\n",
    "chunk_size = 1000\n",
    "\n",
    "# determine the total number of records in the file\n",
    "with open(file_path, 'r', encoding='utf-8') as f:\n",
    "    num_records = sum(1 for line in f)\n",
    "\n",
    "# determine the indices of the records to load\n",
    "subset_size = int(num_records * 0.1)  # load 10% of the records\n",
    "indices = random.sample(range(num_records), subset_size)\n",
    "\n",
    "# load the random subset of records in chunks\n",
    "chunks = []\n",
    "json_reader = pd.read_json(file_path, lines=True, chunksize=chunk_size)\n",
    "for chunk in json_reader:\n",
    "    filtered_chunk = chunk[chunk.index.isin(indices)]\n",
    "    if not filtered_chunk.empty:\n",
    "        chunks.append(filtered_chunk)\n",
    "\n",
    "# concatenate the chunks into a single DataFrame\n",
    "df = pd.concat(chunks)\n"
   ]
  },
  {
   "cell_type": "code",
   "execution_count": 21,
   "metadata": {},
   "outputs": [
    {
     "data": {
      "text/html": [
       "<div>\n",
       "<style scoped>\n",
       "    .dataframe tbody tr th:only-of-type {\n",
       "        vertical-align: middle;\n",
       "    }\n",
       "\n",
       "    .dataframe tbody tr th {\n",
       "        vertical-align: top;\n",
       "    }\n",
       "\n",
       "    .dataframe thead th {\n",
       "        text-align: right;\n",
       "    }\n",
       "</style>\n",
       "<table border=\"1\" class=\"dataframe\">\n",
       "  <thead>\n",
       "    <tr style=\"text-align: right;\">\n",
       "      <th></th>\n",
       "      <th>review_id</th>\n",
       "      <th>user_id</th>\n",
       "      <th>business_id</th>\n",
       "      <th>stars</th>\n",
       "      <th>useful</th>\n",
       "      <th>funny</th>\n",
       "      <th>cool</th>\n",
       "      <th>text</th>\n",
       "      <th>date</th>\n",
       "    </tr>\n",
       "  </thead>\n",
       "  <tbody>\n",
       "    <tr>\n",
       "      <th>2</th>\n",
       "      <td>saUsX_uimxRlCVr67Z4Jig</td>\n",
       "      <td>8g_iMtfSiwikVnbP2etR0A</td>\n",
       "      <td>YjUWPpI6HXG530lwP-fb2A</td>\n",
       "      <td>3</td>\n",
       "      <td>0</td>\n",
       "      <td>0</td>\n",
       "      <td>0</td>\n",
       "      <td>Family diner. Had the buffet. Eclectic assortm...</td>\n",
       "      <td>2014-02-05 20:30:30</td>\n",
       "    </tr>\n",
       "    <tr>\n",
       "      <th>15</th>\n",
       "      <td>OAhBYw8IQ6wlfw1owXWRWw</td>\n",
       "      <td>1C2lxzUo1Hyye4RFIXly3g</td>\n",
       "      <td>BVndHaLihEYbr76Z0CMEGw</td>\n",
       "      <td>5</td>\n",
       "      <td>0</td>\n",
       "      <td>0</td>\n",
       "      <td>0</td>\n",
       "      <td>Great place for breakfast! I had the waffle, w...</td>\n",
       "      <td>2014-10-11 16:22:06</td>\n",
       "    </tr>\n",
       "    <tr>\n",
       "      <th>20</th>\n",
       "      <td>vBK79c3_1Ff_oqkh5VpfGg</td>\n",
       "      <td>Ohhrhu1RkqfVciIVx_W5HQ</td>\n",
       "      <td>nRKndeZLQ3eDL10UMwS2rQ</td>\n",
       "      <td>5</td>\n",
       "      <td>2</td>\n",
       "      <td>5</td>\n",
       "      <td>2</td>\n",
       "      <td>HOLY SMOKES!\\n\\nactual pumpkin pie mixed in wi...</td>\n",
       "      <td>2009-10-13 19:49:51</td>\n",
       "    </tr>\n",
       "    <tr>\n",
       "      <th>21</th>\n",
       "      <td>ZVvhc3Go7v5I8XTiVoWmqQ</td>\n",
       "      <td>WBpQDAZymU0dhIqXcACGNw</td>\n",
       "      <td>ut6fi2W2YaipNOqvi7e0jw</td>\n",
       "      <td>3</td>\n",
       "      <td>0</td>\n",
       "      <td>0</td>\n",
       "      <td>0</td>\n",
       "      <td>Upland is a brewery based out of Bloomington, ...</td>\n",
       "      <td>2014-11-12 14:12:20</td>\n",
       "    </tr>\n",
       "    <tr>\n",
       "      <th>25</th>\n",
       "      <td>qS6kE7CDoDagyPZwmueJaQ</td>\n",
       "      <td>zoBajEyVA0z4IjbFsMJksg</td>\n",
       "      <td>c-IgS6Pk6vMyax7Rbr38eA</td>\n",
       "      <td>4</td>\n",
       "      <td>0</td>\n",
       "      <td>0</td>\n",
       "      <td>0</td>\n",
       "      <td>Went for lunch. Beef brisket sandwich was awes...</td>\n",
       "      <td>2015-06-08 19:45:48</td>\n",
       "    </tr>\n",
       "  </tbody>\n",
       "</table>\n",
       "</div>"
      ],
      "text/plain": [
       "                 review_id                 user_id             business_id  \\\n",
       "2   saUsX_uimxRlCVr67Z4Jig  8g_iMtfSiwikVnbP2etR0A  YjUWPpI6HXG530lwP-fb2A   \n",
       "15  OAhBYw8IQ6wlfw1owXWRWw  1C2lxzUo1Hyye4RFIXly3g  BVndHaLihEYbr76Z0CMEGw   \n",
       "20  vBK79c3_1Ff_oqkh5VpfGg  Ohhrhu1RkqfVciIVx_W5HQ  nRKndeZLQ3eDL10UMwS2rQ   \n",
       "21  ZVvhc3Go7v5I8XTiVoWmqQ  WBpQDAZymU0dhIqXcACGNw  ut6fi2W2YaipNOqvi7e0jw   \n",
       "25  qS6kE7CDoDagyPZwmueJaQ  zoBajEyVA0z4IjbFsMJksg  c-IgS6Pk6vMyax7Rbr38eA   \n",
       "\n",
       "    stars  useful  funny  cool  \\\n",
       "2       3       0      0     0   \n",
       "15      5       0      0     0   \n",
       "20      5       2      5     2   \n",
       "21      3       0      0     0   \n",
       "25      4       0      0     0   \n",
       "\n",
       "                                                 text                date  \n",
       "2   Family diner. Had the buffet. Eclectic assortm... 2014-02-05 20:30:30  \n",
       "15  Great place for breakfast! I had the waffle, w... 2014-10-11 16:22:06  \n",
       "20  HOLY SMOKES!\\n\\nactual pumpkin pie mixed in wi... 2009-10-13 19:49:51  \n",
       "21  Upland is a brewery based out of Bloomington, ... 2014-11-12 14:12:20  \n",
       "25  Went for lunch. Beef brisket sandwich was awes... 2015-06-08 19:45:48  "
      ]
     },
     "execution_count": 21,
     "metadata": {},
     "output_type": "execute_result"
    }
   ],
   "source": [
    "df.head()"
   ]
  },
  {
   "cell_type": "code",
   "execution_count": 22,
   "metadata": {},
   "outputs": [
    {
     "data": {
      "text/plain": [
       "5    0.462215\n",
       "4    0.207635\n",
       "1    0.153413\n",
       "3    0.099168\n",
       "2    0.077569\n",
       "Name: stars, dtype: float64"
      ]
     },
     "execution_count": 22,
     "metadata": {},
     "output_type": "execute_result"
    }
   ],
   "source": [
    "df.loc[:,'stars'].value_counts(normalize=True)"
   ]
  },
  {
   "cell_type": "code",
   "execution_count": 26,
   "metadata": {},
   "outputs": [],
   "source": [
    "yelp_reviews = df.loc[:, ['text','stars', 'useful','funny','cool']]"
   ]
  },
  {
   "cell_type": "code",
   "execution_count": 31,
   "metadata": {},
   "outputs": [
    {
     "data": {
      "text/plain": [
       "(699028, 5)"
      ]
     },
     "execution_count": 31,
     "metadata": {},
     "output_type": "execute_result"
    }
   ],
   "source": [
    "yelp_reviews.shape"
   ]
  },
  {
   "cell_type": "code",
   "execution_count": 27,
   "metadata": {},
   "outputs": [
    {
     "data": {
      "text/html": [
       "<div>\n",
       "<style scoped>\n",
       "    .dataframe tbody tr th:only-of-type {\n",
       "        vertical-align: middle;\n",
       "    }\n",
       "\n",
       "    .dataframe tbody tr th {\n",
       "        vertical-align: top;\n",
       "    }\n",
       "\n",
       "    .dataframe thead th {\n",
       "        text-align: right;\n",
       "    }\n",
       "</style>\n",
       "<table border=\"1\" class=\"dataframe\">\n",
       "  <thead>\n",
       "    <tr style=\"text-align: right;\">\n",
       "      <th></th>\n",
       "      <th>text</th>\n",
       "      <th>stars</th>\n",
       "      <th>useful</th>\n",
       "      <th>funny</th>\n",
       "      <th>cool</th>\n",
       "    </tr>\n",
       "  </thead>\n",
       "  <tbody>\n",
       "    <tr>\n",
       "      <th>2</th>\n",
       "      <td>Family diner. Had the buffet. Eclectic assortm...</td>\n",
       "      <td>3</td>\n",
       "      <td>0</td>\n",
       "      <td>0</td>\n",
       "      <td>0</td>\n",
       "    </tr>\n",
       "    <tr>\n",
       "      <th>15</th>\n",
       "      <td>Great place for breakfast! I had the waffle, w...</td>\n",
       "      <td>5</td>\n",
       "      <td>0</td>\n",
       "      <td>0</td>\n",
       "      <td>0</td>\n",
       "    </tr>\n",
       "    <tr>\n",
       "      <th>20</th>\n",
       "      <td>HOLY SMOKES!\\n\\nactual pumpkin pie mixed in wi...</td>\n",
       "      <td>5</td>\n",
       "      <td>2</td>\n",
       "      <td>5</td>\n",
       "      <td>2</td>\n",
       "    </tr>\n",
       "    <tr>\n",
       "      <th>21</th>\n",
       "      <td>Upland is a brewery based out of Bloomington, ...</td>\n",
       "      <td>3</td>\n",
       "      <td>0</td>\n",
       "      <td>0</td>\n",
       "      <td>0</td>\n",
       "    </tr>\n",
       "    <tr>\n",
       "      <th>25</th>\n",
       "      <td>Went for lunch. Beef brisket sandwich was awes...</td>\n",
       "      <td>4</td>\n",
       "      <td>0</td>\n",
       "      <td>0</td>\n",
       "      <td>0</td>\n",
       "    </tr>\n",
       "  </tbody>\n",
       "</table>\n",
       "</div>"
      ],
      "text/plain": [
       "                                                 text  stars  useful  funny  \\\n",
       "2   Family diner. Had the buffet. Eclectic assortm...      3       0      0   \n",
       "15  Great place for breakfast! I had the waffle, w...      5       0      0   \n",
       "20  HOLY SMOKES!\\n\\nactual pumpkin pie mixed in wi...      5       2      5   \n",
       "21  Upland is a brewery based out of Bloomington, ...      3       0      0   \n",
       "25  Went for lunch. Beef brisket sandwich was awes...      4       0      0   \n",
       "\n",
       "    cool  \n",
       "2      0  \n",
       "15     0  \n",
       "20     2  \n",
       "21     0  \n",
       "25     0  "
      ]
     },
     "execution_count": 27,
     "metadata": {},
     "output_type": "execute_result"
    }
   ],
   "source": [
    "yelp_reviews.head()"
   ]
  },
  {
   "cell_type": "code",
   "execution_count": 32,
   "metadata": {},
   "outputs": [
    {
     "name": "stderr",
     "output_type": "stream",
     "text": [
      "[nltk_data] Downloading package punkt to\n",
      "[nltk_data]     C:\\Users\\soumy\\AppData\\Roaming\\nltk_data...\n",
      "[nltk_data]   Unzipping tokenizers\\punkt.zip.\n",
      "[nltk_data] Downloading package stopwords to\n",
      "[nltk_data]     C:\\Users\\soumy\\AppData\\Roaming\\nltk_data...\n",
      "[nltk_data]   Unzipping corpora\\stopwords.zip.\n",
      "[nltk_data] Downloading package wordnet to\n",
      "[nltk_data]     C:\\Users\\soumy\\AppData\\Roaming\\nltk_data...\n"
     ]
    },
    {
     "data": {
      "text/plain": [
       "True"
      ]
     },
     "execution_count": 32,
     "metadata": {},
     "output_type": "execute_result"
    }
   ],
   "source": [
    "# Tokenizing and lemmatizing: I had some issue switching to Eshan's branch.\n",
    "# Please edit if I missed a step\n",
    "nltk.download('punkt')\n",
    "nltk.download('stopwords')\n",
    "nltk.download('wordnet')"
   ]
  },
  {
   "cell_type": "code",
   "execution_count": 33,
   "metadata": {},
   "outputs": [],
   "source": [
    "#Pre-processing strings\n",
    "yelp_reviews.loc[:,'text'] = yelp_reviews.loc[:,'text'].str.lower()"
   ]
  },
  {
   "cell_type": "code",
   "execution_count": 34,
   "metadata": {},
   "outputs": [],
   "source": [
    "#Removing punctuation\n",
    "punc = r'[{}]+'.format(string.punctuation)\n",
    "yelp_reviews.loc[:,'text'] = yelp_reviews.loc[:,'text'].apply(lambda x: re.sub(punc,'',x))"
   ]
  },
  {
   "cell_type": "code",
   "execution_count": 35,
   "metadata": {},
   "outputs": [],
   "source": [
    "yelp_reviews.loc[:,'text'] = yelp_reviews.loc[:,'text'] .apply(lambda x: nltk.word_tokenize(x))"
   ]
  },
  {
   "cell_type": "code",
   "execution_count": null,
   "metadata": {},
   "outputs": [],
   "source": [
    "stop_words = nltk.corpus.stopwords.words('english')\n",
    "yelp_reviews.loc[:,'text'] = yelp_reviews.loc[:,'text'].apply(lambda x: [i for i in x if i not in stop_words])"
   ]
  },
  {
   "cell_type": "code",
   "execution_count": null,
   "metadata": {},
   "outputs": [],
   "source": [
    "lemmatizer = nltk.stem.WordNetLemmatizer()\n",
    "yelp_reviews.loc[:,'text'] = yelp_reviews.loc[:,'text'].apply(lambda x: [lemmatizer.lemmatize(i) for i in x])"
   ]
  }
 ],
 "metadata": {
  "kernelspec": {
   "display_name": "Python 3",
   "language": "python",
   "name": "python3"
  },
  "language_info": {
   "codemirror_mode": {
    "name": "ipython",
    "version": 3
   },
   "file_extension": ".py",
   "mimetype": "text/x-python",
   "name": "python",
   "nbconvert_exporter": "python",
   "pygments_lexer": "ipython3",
   "version": "3.11.2"
  },
  "orig_nbformat": 4
 },
 "nbformat": 4,
 "nbformat_minor": 2
}
