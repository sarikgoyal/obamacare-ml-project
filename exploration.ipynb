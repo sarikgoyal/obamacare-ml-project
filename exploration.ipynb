{
 "cells": [
  {
   "attachments": {},
   "cell_type": "markdown",
   "metadata": {},
   "source": [
    "Importing Libraries"
   ]
  },
  {
   "cell_type": "code",
   "execution_count": 40,
   "metadata": {},
   "outputs": [
    {
     "name": "stderr",
     "output_type": "stream",
     "text": [
      "[nltk_data] Downloading package punkt to /home/setu/nltk_data...\n",
      "[nltk_data]   Package punkt is already up-to-date!\n",
      "[nltk_data] Downloading package stopwords to /home/setu/nltk_data...\n",
      "[nltk_data]   Package stopwords is already up-to-date!\n",
      "[nltk_data] Downloading package wordnet to /home/setu/nltk_data...\n"
     ]
    },
    {
     "data": {
      "text/plain": [
       "True"
      ]
     },
     "execution_count": 40,
     "metadata": {},
     "output_type": "execute_result"
    }
   ],
   "source": [
    "import pandas as pd\n",
    "import tarfile\n",
    "import sklearn\n",
    "import spacy\n",
    "import nltk\n",
    "import string\n",
    "import re\n",
    "nltk.download('punkt')\n",
    "nltk.download('stopwords')\n",
    "nltk.download('wordnet')"
   ]
  },
  {
   "attachments": {},
   "cell_type": "markdown",
   "metadata": {},
   "source": [
    "Reading data"
   ]
  },
  {
   "cell_type": "code",
   "execution_count": 6,
   "metadata": {},
   "outputs": [],
   "source": [
    "twitter_data = pd.read_csv(\"data/obamacare_19_23.csv\")"
   ]
  },
  {
   "cell_type": "code",
   "execution_count": 14,
   "metadata": {},
   "outputs": [],
   "source": [
    "twitter_data.loc[:,'Proc_Text'] = twitter_data.loc[:,'Text'].str.lower()\n"
   ]
  },
  {
   "cell_type": "code",
   "execution_count": 23,
   "metadata": {},
   "outputs": [],
   "source": [
    "punc = r'[{}]+'.format(string.punctuation)\n",
    "twitter_data.loc[:,'Proc_Text'] = twitter_data.loc[:,'Proc_Text'].apply(lambda x: re.sub(punc,'',x))"
   ]
  },
  {
   "cell_type": "code",
   "execution_count": 27,
   "metadata": {},
   "outputs": [],
   "source": [
    "twitter_data.loc[:,'Proc_Text'] = twitter_data.loc[:,'Proc_Text'].apply(lambda x: nltk.word_tokenize(x))"
   ]
  },
  {
   "cell_type": "code",
   "execution_count": 37,
   "metadata": {},
   "outputs": [],
   "source": [
    "stop_words = nltk.corpus.stopwords.words('english')\n",
    "twitter_data.loc[:,'Proc_Text'] = twitter_data.loc[:,'Proc_Text'].apply(lambda x: [i for i in x if i not in stop_words])"
   ]
  },
  {
   "cell_type": "code",
   "execution_count": 41,
   "metadata": {},
   "outputs": [],
   "source": [
    "lemmatizer = nltk.stem.WordNetLemmatizer()\n",
    "twitter_data.loc[:,'Proc_Text'] = twitter_data.loc[:,'Proc_Text'].apply(lambda x: [lemmatizer.lemmatize(i) for i in x])"
   ]
  },
  {
   "cell_type": "code",
   "execution_count": 42,
   "metadata": {},
   "outputs": [
    {
     "data": {
      "text/plain": [
       "[rt, speakerpelosi, must, read, even, middle, coronavirus, crisis, president, trying, take, away, woman, ’, health, care, amp, al…]                                                                                                                   3650\n",
       "[rt, barackobama, ’, always, proud, name, associated, program, ’, helping, folk, get, health, care, need, https…]                                                                                                                                     1539\n",
       "[rt, ambassadorrice, woman, lose, trump, succeeds, killing, aca, return, health, care, discrimination, re…]                                                                                                                                            760\n",
       "[rt, deanobeidallah, daily, reminder, trump, regime, federal, court, trying, end, family, coverage, preexisting, medi…]                                                                                                                                717\n",
       "[rt, ewarren, great, piece, sebelius, donald, trump, want, take, u, back, day, insurer, could, deny, woman, health, cove…]                                                                                                                             582\n",
       "                                                                                                                                                                                                                                                      ... \n",
       "[gop, realdonaldtrump, stop, going, court, remove, protection, maybe, ’, believe, httpstcovw0ojwtjiz]                                                                                                                                                    1\n",
       "[trump, success, ending, obamacare, would, kill, fauci, plan, conquer, hiv, httpstcoxkz66jmwpu, long, line, amp, wait, l, needed, bring, light, folding, chair, water, amp, snack, wait, clean, email, inbox, call, friend, beg, vote, votehimout]       1\n",
       "[amymcgrathky, ’, sure, people, understand, ky, medicaid, tied, “, obamacare, ”, aca]                                                                                                                                                                    1\n",
       "[rt, fortunemagazine, ’, reason, believe, trump, protect, preexisting, condition, httpstcolywew2ov3b]                                                                                                                                                    1\n",
       "[insured, new, year, im, single, parent, worried, every, day, year, frankly, isnt, good, one, health, thank, virginia, dems, thank, governor, ralphnortham, thank, obamacare, aca, happynewyear2019, healthcareforall, healthcare]                       1\n",
       "Name: Proc_Text, Length: 14791, dtype: int64"
      ]
     },
     "execution_count": 42,
     "metadata": {},
     "output_type": "execute_result"
    }
   ],
   "source": [
    "twitter_data.loc[:,'Proc_Text'].value_counts()"
   ]
  }
 ],
 "metadata": {
  "kernelspec": {
   "display_name": "Python 3",
   "language": "python",
   "name": "python3"
  },
  "language_info": {
   "codemirror_mode": {
    "name": "ipython",
    "version": 3
   },
   "file_extension": ".py",
   "mimetype": "text/x-python",
   "name": "python",
   "nbconvert_exporter": "python",
   "pygments_lexer": "ipython3",
   "version": "3.8.10"
  },
  "orig_nbformat": 4
 },
 "nbformat": 4,
 "nbformat_minor": 2
}
